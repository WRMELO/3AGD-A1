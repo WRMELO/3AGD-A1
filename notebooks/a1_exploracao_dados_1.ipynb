{
 "cells": [
  {
   "cell_type": "markdown",
   "id": "22b21171",
   "metadata": {},
   "source": [
    "# Pilar A1 – Aprendizado Profundo Contínuo\n",
    "\n",
    "Este notebook é responsável por iniciar a análise exploratória dos dados brutos da base **Ovation**, que serão futuramente curados para alimentar os modelos do Pilar A1 do Framework 3AGD.\n",
    "\n",
    "---\n",
    "\n",
    "### Objetivos desta etapa:\n",
    "\n",
    "1. Verificar estrutura e integridade dos dados\n",
    "2. Analisar formatos, colunas, datas e registros nulos\n",
    "3. Definir escopo inicial de modelagem\n",
    "4. Produzir artefatos auditáveis para curadoria e transformação futura\n",
    "\n",
    "---\n"
   ]
  },
  {
   "cell_type": "code",
   "execution_count": 3,
   "id": "fe5cf457",
   "metadata": {},
   "outputs": [
    {
     "name": "stdout",
     "output_type": "stream",
     "text": [
      "✅ Dados WIlson início 2023 1(in).csv: lido com utf-8\n",
      "✅ Dados Wilson início 2024 1(in).csv: lido com utf-8\n",
      "✅ Dados Wilson metade final 2023 1(in).csv: lido com utf-8\n",
      "✅ Dados Wilson metade final 2024 1(in).csv: lido com utf-8\n"
     ]
    }
   ],
   "source": [
    "# 🔍 Teste controlado de encoding para leitura segura\n",
    "\n",
    "from pathlib import Path\n",
    "\n",
    "falhas = []\n",
    "\n",
    "for arquivo in arquivos_csv:\n",
    "    caminho = Path(DATA_PATH) / arquivo\n",
    "    try:\n",
    "        # tentativa com 'utf-8'\n",
    "        pd.read_csv(caminho, sep=\",\", encoding=\"utf-8\", nrows=5)\n",
    "        print(f\"✅ {arquivo}: lido com utf-8\")\n",
    "    except UnicodeDecodeError:\n",
    "        try:\n",
    "            # tentativa com 'latin1'\n",
    "            pd.read_csv(caminho, sep=\",\", encoding=\"latin1\", nrows=5)\n",
    "            print(f\"⚠️  {arquivo}: fallback para latin1 (ok)\")\n",
    "        except Exception as e:\n",
    "            print(f\"❌ {arquivo}: falha com ambos os encodings.\")\n",
    "            falhas.append((arquivo, str(e)))\n",
    "\n",
    "if falhas:\n",
    "    print(\"\\n🚫 Arquivos com falha crítica:\")\n",
    "    for arq, erro in falhas:\n",
    "        print(f\" - {arq}: {erro}\")\n"
   ]
  },
  {
   "cell_type": "code",
   "execution_count": 6,
   "id": "28fb1db2",
   "metadata": {},
   "outputs": [
    {
     "name": "stdout",
     "output_type": "stream",
     "text": [
      "📂 Total de arquivos CSV encontrados: 4\n",
      "⚠️  Dados WIlson início 2023 1(in).csv: fallback para latin1\n",
      "⚠️  Dados Wilson início 2024 1(in).csv: fallback para latin1\n",
      "⚠️  Dados Wilson metade final 2023 1(in).csv: fallback para latin1\n",
      "⚠️  Dados Wilson metade final 2024 1(in).csv: fallback para latin1\n",
      "\n",
      "✅ Total de registros concatenados: 18,072\n",
      "📊 Total de colunas: 3\n",
      "📄 Colunas detectadas:\n",
      "['Monday, January 20, 2025,,,,,,Wilson,,,,,,,Page 1 of 1,,,,,,,,,,,,,,,,,,,,,,,,,,,,,,,,,,,,,,,,,,,,,,,,,,,,,,,,,,,,,,,,,,,,,,,,,,,,,,,,,,,,,,,,,,,,,,,,,,,,,,,,,,,,,,,,,,,,,,,,,,,,,,,,,,,,,,,,,,,,', '__source_file', 'Tuesday, January 21, 2025,,,,,,Wilson,,,,,,Page 1 of 1,,,,,,,,,,,,,,,,,,,,,,,,,,,,,,,,,,,,,,,,,,,,,,,,,,,,,,,,,,,,,,,,,,,,,,,,,,,,,,,,,,,,,,,,,,,,,,,,,,,,,,,,,,,,,,,,,,,,,,,,,,,,,,,,,,,,,,,,,,,,']\n"
     ]
    }
   ],
   "source": [
    "# 🔧 ETAPA 1 – CARREGAMENTO ROBUSTO E CONCILIAÇÃO DOS DADOS OVATION\n",
    "\n",
    "import os\n",
    "import pandas as pd\n",
    "\n",
    "# Caminho fixo dos dados (relativo ao notebook)\n",
    "DATA_PATH = os.path.join(\"..\", \"data\", \"raw\", \"ovation\")\n",
    "arquivos_csv = [f for f in os.listdir(DATA_PATH) if f.endswith(\".csv\")]\n",
    "\n",
    "print(f\"📂 Total de arquivos CSV encontrados: {len(arquivos_csv)}\")\n",
    "\n",
    "dfs = []\n",
    "falhas = []\n",
    "\n",
    "# Tenta ler cada arquivo com utf-8, e faz fallback para latin1 se necessário\n",
    "for arquivo in arquivos_csv:\n",
    "    caminho = os.path.join(DATA_PATH, arquivo)\n",
    "    try:\n",
    "        df = pd.read_csv(caminho, sep=\",\", encoding=\"utf-8\", low_memory=False)\n",
    "        print(f\"✅ {arquivo}: lido com utf-8\")\n",
    "    except UnicodeDecodeError:\n",
    "        try:\n",
    "            df = pd.read_csv(caminho, sep=\",\", encoding=\"latin1\", low_memory=False)\n",
    "            print(f\"⚠️  {arquivo}: fallback para latin1\")\n",
    "        except Exception as e:\n",
    "            print(f\"❌ {arquivo}: falha ao ler com utf-8 e latin1\")\n",
    "            falhas.append((arquivo, str(e)))\n",
    "            continue\n",
    "    df[\"__source_file\"] = arquivo\n",
    "    dfs.append(df)\n",
    "\n",
    "# Concatenação dos arquivos válidos\n",
    "if dfs:\n",
    "    df_ovation = pd.concat(dfs, ignore_index=True)\n",
    "    print(f\"\\n✅ Total de registros concatenados: {len(df_ovation):,}\")\n",
    "    print(f\"📊 Total de colunas: {df_ovation.shape[1]}\")\n",
    "    print(\"📄 Colunas detectadas:\")\n",
    "    print(df_ovation.columns.to_list())\n",
    "else:\n",
    "    print(\"🚫 Nenhum arquivo foi carregado com sucesso.\")\n",
    "\n",
    "# Registro de falhas, se houver\n",
    "if falhas:\n",
    "    print(\"\\n🚫 Arquivos que falharam na leitura:\")\n",
    "    for arq, erro in falhas:\n",
    "        print(f\" - {arq}: {erro}\")\n"
   ]
  },
  {
   "cell_type": "code",
   "execution_count": 9,
   "id": "df0b8a26",
   "metadata": {},
   "outputs": [
    {
     "name": "stdout",
     "output_type": "stream",
     "text": [
      "🔄 Lendo: Dados WIlson início 2023 1(in).csv\n",
      "🔄 Lendo: Dados Wilson metade final 2023 1(in).csv\n",
      "🔄 Lendo: Dados Wilson início 2024 1(in).csv\n",
      "🔄 Lendo: Dados Wilson metade final 2024 1(in).csv\n",
      "\n",
      "✅ Arquivo final corrigido salvo em: C:\\Users\\wilso\\MBA_EMPREENDEDORISMO\\3AGD\\A1_LOCAL\\data\\raw\\ovation\\ovation_dados_concat.csv\n",
      "📦 Total de registros: 17,452\n",
      "📊 Total de colunas: 3\n"
     ]
    }
   ],
   "source": [
    "import pandas as pd\n",
    "import os\n",
    "\n",
    "CAMINHO_ARQUIVOS = r\"C:\\Users\\wilso\\MBA_EMPREENDEDORISMO\\3AGD\\A1_LOCAL\\data\\raw\\ovation\"\n",
    "\n",
    "arquivos = [\n",
    "    \"Dados WIlson início 2023 1(in).csv\",\n",
    "    \"Dados Wilson metade final 2023 1(in).csv\",\n",
    "    \"Dados Wilson início 2024 1(in).csv\",\n",
    "    \"Dados Wilson metade final 2024 1(in).csv\"\n",
    "]\n",
    "\n",
    "dfs = []\n",
    "\n",
    "for arquivo in arquivos:\n",
    "    caminho = os.path.join(CAMINHO_ARQUIVOS, arquivo)\n",
    "    print(f\"🔄 Lendo: {arquivo}\")\n",
    "    \n",
    "    # Agora pula até linha 156, mas considera a 157 como cabeçalho\n",
    "    df = pd.read_csv(caminho, skiprows=155, header=0, encoding=\"latin1\")\n",
    "    \n",
    "    df[\"__source_file\"] = arquivo\n",
    "    dfs.append(df)\n",
    "\n",
    "# Concatena\n",
    "df_concat = pd.concat(dfs, ignore_index=True)\n",
    "\n",
    "# Salva com o nome definitivo\n",
    "CAMINHO_SAIDA = os.path.join(CAMINHO_ARQUIVOS, \"ovation_dados_concat.csv\")\n",
    "df_concat.to_csv(CAMINHO_SAIDA, index=False, encoding=\"utf-8\")\n",
    "\n",
    "print(f\"\\n✅ Arquivo final corrigido salvo em: {CAMINHO_SAIDA}\")\n",
    "print(f\"📦 Total de registros: {len(df_concat):,}\")\n",
    "print(f\"📊 Total de colunas: {df_concat.shape[1]}\")\n"
   ]
  },
  {
   "cell_type": "code",
   "execution_count": 10,
   "id": "0cda5ac1",
   "metadata": {},
   "outputs": [
    {
     "name": "stdout",
     "output_type": "stream",
     "text": [
      "📄 Colunas detectadas no arquivo concatenado:\n",
      "[' ,,,,,,,,,,,,,,,,,,,,,,,,,,,,,,,,,,,,,,,,,,,,,,,,,,,,,,,,,,,,,,,,,,,,,,,,,,,,,,,,,,,,,,,,,,,,,,,,,,,,,,,,,,,,,,,,,,,,,,,,,,,,,,,,,,,,,,,,,,,,,,,,,,,,,,,,,', '__source_file', ' ,,,,,,,,,,,,,,,,,,,,,,,,,,,,,,,,,,,,,,,,,,,,,,,,,,,,,,,,,,,,,,,,,,,,,,,,,,,,,,,,,,,,,,,,,,,,,,,,,,,,,,,,,,,,,,,,,,,,,,,,,,,,,,,,,,,,,,,,,,,,,,,,,,,,,,,,']\n",
      "\n",
      "🔍 Amostra das primeiras 5 linhas:\n",
      "   ,,,,,,,,,,,,,,,,,,,,,,,,,,,,,,,,,,,,,,,,,,,,,,,,,,,,,,,,,,,,,,,,,,,,,,,,,,,,,,,,,,,,,,,,,,,,,,,,,,,,,,,,,,,,,,,,,,,,,,,,,,,,,,,,,,,,,,,,,,,,,,,,,,,,,,,,,  \\\n",
      "0  Date Time,,10HFB11CW902.UNIT1@NET1,10HFB12CW90...                                                                                                           \n",
      "1  06/29/2023 23:00:00,,36.421 ,34.168 ,33.509 ,3...                                                                                                           \n",
      "2  06/29/2023 22:00:00,,37.313 ,35.276 ,35.290 ,3...                                                                                                           \n",
      "3  06/29/2023 21:00:00,,36.787 ,34.471 ,34.026 ,3...                                                                                                           \n",
      "4  06/29/2023 20:00:00,,37.313 ,34.406 ,34.535 ,3...                                                                                                           \n",
      "\n",
      "                        __source_file  \\\n",
      "0  Dados WIlson início 2023 1(in).csv   \n",
      "1  Dados WIlson início 2023 1(in).csv   \n",
      "2  Dados WIlson início 2023 1(in).csv   \n",
      "3  Dados WIlson início 2023 1(in).csv   \n",
      "4  Dados WIlson início 2023 1(in).csv   \n",
      "\n",
      "   ,,,,,,,,,,,,,,,,,,,,,,,,,,,,,,,,,,,,,,,,,,,,,,,,,,,,,,,,,,,,,,,,,,,,,,,,,,,,,,,,,,,,,,,,,,,,,,,,,,,,,,,,,,,,,,,,,,,,,,,,,,,,,,,,,,,,,,,,,,,,,,,,,,,,,,,,  \n",
      "0                                                NaN                                                                                                         \n",
      "1                                                NaN                                                                                                         \n",
      "2                                                NaN                                                                                                         \n",
      "3                                                NaN                                                                                                         \n",
      "4                                                NaN                                                                                                         \n"
     ]
    }
   ],
   "source": [
    "# Verificar as colunas detectadas após leitura\n",
    "print(\"📄 Colunas detectadas no arquivo concatenado:\")\n",
    "print(df_concat.columns.tolist())\n",
    "\n",
    "# Verificar as 5 primeiras linhas para confirmar estrutura\n",
    "print(\"\\n🔍 Amostra das primeiras 5 linhas:\")\n",
    "print(df_concat.head())\n"
   ]
  },
  {
   "cell_type": "code",
   "execution_count": 13,
   "id": "bd7bd1fd",
   "metadata": {},
   "outputs": [
    {
     "name": "stdout",
     "output_type": "stream",
     "text": [
      "Collecting tqdm\n",
      "  Using cached tqdm-4.67.1-py3-none-any.whl.metadata (57 kB)\n",
      "Requirement already satisfied: colorama in c:\\users\\wilso\\mba_empreendedorismo\\3agd\\a1_local\\.venv\\lib\\site-packages (from tqdm) (0.4.6)\n",
      "Using cached tqdm-4.67.1-py3-none-any.whl (78 kB)\n",
      "Installing collected packages: tqdm\n",
      "Successfully installed tqdm-4.67.1\n"
     ]
    }
   ],
   "source": [
    "!pip install tqdm\n"
   ]
  },
  {
   "cell_type": "code",
   "execution_count": 14,
   "id": "5e917015",
   "metadata": {},
   "outputs": [
    {
     "name": "stdout",
     "output_type": "stream",
     "text": [
      "🔍 Lendo: Dados WIlson início 2023 1(in).csv\n"
     ]
    },
    {
     "name": "stderr",
     "output_type": "stream",
     "text": [
      "Processando Dados WIlson início 2023 1(in).csv: 4477it [00:00, 267034.97it/s]\n"
     ]
    },
    {
     "name": "stdout",
     "output_type": "stream",
     "text": [
      "🔍 Lendo: Dados Wilson metade final 2023 1(in).csv\n"
     ]
    },
    {
     "name": "stderr",
     "output_type": "stream",
     "text": [
      "Processando Dados Wilson metade final 2023 1(in).csv: 4549it [00:00, 506931.53it/s]\n"
     ]
    },
    {
     "name": "stdout",
     "output_type": "stream",
     "text": [
      "🔍 Lendo: Dados Wilson início 2024 1(in).csv\n"
     ]
    },
    {
     "name": "stderr",
     "output_type": "stream",
     "text": [
      "Processando Dados Wilson início 2024 1(in).csv: 4501it [00:00, 499922.21it/s]\n"
     ]
    },
    {
     "name": "stdout",
     "output_type": "stream",
     "text": [
      "🔍 Lendo: Dados Wilson metade final 2024 1(in).csv\n"
     ]
    },
    {
     "name": "stderr",
     "output_type": "stream",
     "text": [
      "Processando Dados Wilson metade final 2024 1(in).csv: 4549it [00:00, 454586.13it/s]\n"
     ]
    },
    {
     "ename": "ValueError",
     "evalue": "max() iterable argument is empty",
     "output_type": "error",
     "traceback": [
      "\u001b[31m---------------------------------------------------------------------------\u001b[39m",
      "\u001b[31mValueError\u001b[39m                                Traceback (most recent call last)",
      "\u001b[36mCell\u001b[39m\u001b[36m \u001b[39m\u001b[32mIn[14]\u001b[39m\u001b[32m, line 34\u001b[39m\n\u001b[32m     31\u001b[39m                 linhas_validas.append(campos)\n\u001b[32m     33\u001b[39m \u001b[38;5;66;03m# Construir DataFrame com nomes de coluna provisórios\u001b[39;00m\n\u001b[32m---> \u001b[39m\u001b[32m34\u001b[39m max_colunas = \u001b[38;5;28;43mmax\u001b[39;49m\u001b[43m(\u001b[49m\u001b[38;5;28;43mlen\u001b[39;49m\u001b[43m(\u001b[49m\u001b[43mlinha\u001b[49m\u001b[43m)\u001b[49m\u001b[43m \u001b[49m\u001b[38;5;28;43;01mfor\u001b[39;49;00m\u001b[43m \u001b[49m\u001b[43mlinha\u001b[49m\u001b[43m \u001b[49m\u001b[38;5;129;43;01min\u001b[39;49;00m\u001b[43m \u001b[49m\u001b[43mlinhas_validas\u001b[49m\u001b[43m)\u001b[49m\n\u001b[32m     35\u001b[39m colunas_provisorias = [\u001b[33mf\u001b[39m\u001b[33m\"\u001b[39m\u001b[33mcol_\u001b[39m\u001b[38;5;132;01m{\u001b[39;00mi+\u001b[32m1\u001b[39m\u001b[38;5;132;01m:\u001b[39;00m\u001b[33m03\u001b[39m\u001b[38;5;132;01m}\u001b[39;00m\u001b[33m\"\u001b[39m \u001b[38;5;28;01mfor\u001b[39;00m i \u001b[38;5;129;01min\u001b[39;00m \u001b[38;5;28mrange\u001b[39m(max_colunas)]\n\u001b[32m     36\u001b[39m df_final = pd.DataFrame(linhas_validas, columns=colunas_provisorias)\n",
      "\u001b[31mValueError\u001b[39m: max() iterable argument is empty"
     ]
    }
   ],
   "source": [
    "import os\n",
    "import re\n",
    "import pandas as pd\n",
    "from tqdm import tqdm\n",
    "\n",
    "# Diretório dos arquivos CSV originais\n",
    "caminho_arquivos = r\"C:\\Users\\wilso\\MBA_EMPREENDEDORISMO\\3AGD\\A1_LOCAL\\data\\raw\\ovation\"\n",
    "arquivos_csv = [\n",
    "    \"Dados WIlson início 2023 1(in).csv\",\n",
    "    \"Dados Wilson metade final 2023 1(in).csv\",\n",
    "    \"Dados Wilson início 2024 1(in).csv\",\n",
    "    \"Dados Wilson metade final 2024 1(in).csv\"\n",
    "]\n",
    "\n",
    "# Regex para identificar linhas no padrão correto\n",
    "padrao_linha_valida = re.compile(r'^\"\\d{2}/\\d{2}/\\d{4} \\d{2}:\\d{2}:\\d{2}\",,')\n",
    "\n",
    "# DataFrame final (sem cabeçalho ainda)\n",
    "linhas_validas = []\n",
    "\n",
    "# Loop pelos arquivos\n",
    "for nome_arquivo in arquivos_csv:\n",
    "    caminho = os.path.join(caminho_arquivos, nome_arquivo)\n",
    "    print(f\"🔍 Lendo: {nome_arquivo}\")\n",
    "    \n",
    "    with open(caminho, encoding='latin1') as f:\n",
    "        for linha in tqdm(f, desc=f\"Processando {nome_arquivo}\"):\n",
    "            if padrao_linha_valida.match(linha):\n",
    "                # Remove quebras de linha e divide por vírgula\n",
    "                campos = linha.strip().split(',')\n",
    "                linhas_validas.append(campos)\n",
    "\n",
    "# Construir DataFrame com nomes de coluna provisórios\n",
    "max_colunas = max(len(linha) for linha in linhas_validas)\n",
    "colunas_provisorias = [f\"col_{i+1:03}\" for i in range(max_colunas)]\n",
    "df_final = pd.DataFrame(linhas_validas, columns=colunas_provisorias)\n",
    "\n",
    "# Salvar o arquivo final\n",
    "caminho_saida = os.path.join(caminho_arquivos, \"ovation_dados_filtrados.csv\")\n",
    "df_final.to_csv(caminho_saida, index=False, encoding='utf-8')\n",
    "print(f\"\\n✅ Arquivo final salvo com {df_final.shape[0]} linhas e {df_final.shape[1]} colunas.\")\n",
    "print(f\"📄 Caminho: {caminho_saida}\")\n"
   ]
  },
  {
   "cell_type": "code",
   "execution_count": 16,
   "id": "f2ab5297",
   "metadata": {},
   "outputs": [
    {
     "name": "stdout",
     "output_type": "stream",
     "text": [
      "🔢 Linha 158 tem 1 campos\n",
      "🧪 Exemplo dos primeiros 5 campos: ['06/29/2023 23:00:00,,36.421 ,34.168 ,33.509 ,34.521 ,29.797 ,32.795 ,32.676 ,32.603 ,51.230 ,,25.7361 ,,7.9383 ,7.4593 ,5.7430 ,791.737 ,2.140 ,3.124 ,4.168 ,4.544 ,2.982 ,1.961 ,832.467 ,777.996 ,829.101 ,817.945 ,836.842 ,847.498 ,856.979 ,833.293 ,797.198 ,508.047 ,551.398 ,1.115 ,1.245 ,773.662 ,824.498 ,-1.245 ,-42.170 ,9.014 ,830.960 ,839.550 ,864.774 ,-1.430 ,-0.896 ,-1.174 ,306.734 ,314.680 ,-2.828 ,-2.910 ,,,489.291 ,506.136 ,-2.517 ,-2.525 ,-2.152 ,714.335 ,740.825 ,-2.132 ,17.761 ,23.623 ,-39.227 ,1.069 ,799.506 ,1.021 ,183.999 ,774.480 ,151.055 ,-0.072 ,-0.012 ,-0.179 ,0.004 ,77.795 ,74.164 ,131.754 ,132.120 ,15.156 ,15.135 ,10.246 ,9.795 ,1309.138 ,1309.683 ,1302.277 ,1290.948 ,3261.596 ,8.005 ,0.812 ,40.521 ,232.941 ,281.966 ,14.038 ,0.745 ,41.559 ,219.284 ,248.180 ,115.678 ,-5.130 ,-4.217 ,-4.294 ,-4.297 ,-4.371 ,127.739 ,-4.286 ,286.899 ,14.488 ,15.931 ,15.445 ,0.070 ,38.911 ,38.894 ,53.297 ,83.630 ,82.748 ,53.139 ,12.234 ,0.289 ,82.067 ,50.992 ,298.587 ,5.355 ,536.539 ,3.618 ,539.186 ,16.306 ,933.572 ,894.466 ,-8.316 ,267.241 ,3.127 ,433.448 ,770.955 ,831.209 ,-33.197 ,295.139 ,299.312 ,3138.470 ,6.997 ,7.525 ,120.643 ,54.958 ,279.297 ,254.181 ,224.011 ,151.055 ,114.222 ,3.439 ,-72.340 ,-70.775 ,-0.037 ,33.596 ,3.411 ']\n"
     ]
    }
   ],
   "source": [
    "import csv\n",
    "\n",
    "# Caminho do arquivo de referência\n",
    "arquivo_referencia = r\"C:\\Users\\wilso\\MBA_EMPREENDEDORISMO\\3AGD\\A1_LOCAL\\data\\raw\\ovation\\Dados WIlson início 2023 1(in).csv\"\n",
    "\n",
    "# Capturar a linha 158 como padrão\n",
    "linha_referencia = None\n",
    "with open(arquivo_referencia, \"r\", encoding=\"latin1\") as f:\n",
    "    for i, linha in enumerate(f):\n",
    "        if i == 157:\n",
    "            campos = list(csv.reader([linha]))[0]\n",
    "            print(f\"🔢 Linha 158 tem {len(campos)} campos\")\n",
    "            print(\"🧪 Exemplo dos primeiros 5 campos:\", campos[:5])\n",
    "            linha_referencia = campos\n",
    "            break\n"
   ]
  },
  {
   "cell_type": "code",
   "execution_count": 17,
   "id": "1d579967",
   "metadata": {},
   "outputs": [
    {
     "name": "stdout",
     "output_type": "stream",
     "text": [
      "🔢 Linha 158 tem 154 campos\n",
      "🧪 Primeiros campos: ['\"06/29/2023 23:00:00', '', '36.421 ', '34.168 ', '33.509 ']\n"
     ]
    }
   ],
   "source": [
    "# Caminho do arquivo de referência\n",
    "arquivo_referencia = r\"C:\\Users\\wilso\\MBA_EMPREENDEDORISMO\\3AGD\\A1_LOCAL\\data\\raw\\ovation\\Dados WIlson início 2023 1(in).csv\"\n",
    "\n",
    "# Capturar e dividir a linha 158\n",
    "with open(arquivo_referencia, \"r\", encoding=\"latin1\") as f:\n",
    "    for i, linha in enumerate(f):\n",
    "        if i == 157:\n",
    "            campos = linha.strip().split(',')\n",
    "            print(f\"🔢 Linha 158 tem {len(campos)} campos\")\n",
    "            print(\"🧪 Primeiros campos:\", campos[:5])\n",
    "            break\n"
   ]
  },
  {
   "cell_type": "code",
   "execution_count": 18,
   "id": "5a605a57",
   "metadata": {},
   "outputs": [
    {
     "name": "stdout",
     "output_type": "stream",
     "text": [
      "🔍 Lendo: Dados WIlson início 2023 1(in).csv\n"
     ]
    },
    {
     "name": "stderr",
     "output_type": "stream",
     "text": [
      "Processando Dados WIlson início 2023 1(in).csv: 4477it [00:00, 85032.89it/s]\n"
     ]
    },
    {
     "name": "stdout",
     "output_type": "stream",
     "text": [
      "🔍 Lendo: Dados Wilson metade final 2023 1(in).csv\n"
     ]
    },
    {
     "name": "stderr",
     "output_type": "stream",
     "text": [
      "Processando Dados Wilson metade final 2023 1(in).csv: 4549it [00:00, 105620.32it/s]\n"
     ]
    },
    {
     "name": "stdout",
     "output_type": "stream",
     "text": [
      "🔍 Lendo: Dados Wilson início 2024 1(in).csv\n"
     ]
    },
    {
     "name": "stderr",
     "output_type": "stream",
     "text": [
      "Processando Dados Wilson início 2024 1(in).csv: 4501it [00:00, 121007.12it/s]\n"
     ]
    },
    {
     "name": "stdout",
     "output_type": "stream",
     "text": [
      "🔍 Lendo: Dados Wilson metade final 2024 1(in).csv\n"
     ]
    },
    {
     "name": "stderr",
     "output_type": "stream",
     "text": [
      "Processando Dados Wilson metade final 2024 1(in).csv: 4549it [00:00, 158230.34it/s]\n"
     ]
    },
    {
     "name": "stdout",
     "output_type": "stream",
     "text": [
      "\n",
      "✅ Total de linhas válidas: 8712\n",
      "📄 Arquivo final salvo em:\n",
      "C:\\Users\\wilso\\MBA_EMPREENDEDORISMO\\3AGD\\A1_LOCAL\\data\\raw\\ovation\\ovation_dados_filtrados.csv\n"
     ]
    }
   ],
   "source": [
    "import os\n",
    "import pandas as pd\n",
    "from tqdm import tqdm\n",
    "\n",
    "# 📁 Diretório com os CSVs originais\n",
    "caminho_arquivos = r\"C:\\Users\\wilso\\MBA_EMPREENDEDORISMO\\3AGD\\A1_LOCAL\\data\\raw\\ovation\"\n",
    "\n",
    "# 📝 Arquivos a processar\n",
    "arquivos_csv = [\n",
    "    \"Dados WIlson início 2023 1(in).csv\",\n",
    "    \"Dados Wilson metade final 2023 1(in).csv\",\n",
    "    \"Dados Wilson início 2024 1(in).csv\",\n",
    "    \"Dados Wilson metade final 2024 1(in).csv\"\n",
    "]\n",
    "\n",
    "# 📦 Lista para armazenar linhas válidas\n",
    "linhas_validas = []\n",
    "\n",
    "# 🔁 Processar linha a linha\n",
    "for nome_arquivo in arquivos_csv:\n",
    "    caminho = os.path.join(caminho_arquivos, nome_arquivo)\n",
    "    print(f\"🔍 Lendo: {nome_arquivo}\")\n",
    "    \n",
    "    with open(caminho, encoding='latin1') as f:\n",
    "        for linha in tqdm(f, desc=f\"Processando {nome_arquivo}\"):\n",
    "            campos = linha.strip().split(',')\n",
    "\n",
    "            if (\n",
    "                len(campos) == 154 and                      # exatamente 154 campos\n",
    "                campos[0].startswith('\"') and              # começa com \"\n",
    "                '/' in campos[0] and ':' in campos[0] and  # contém data e hora\n",
    "                campos[1] == '' and campos[2] != ''        # segue com dois campos: vazio e numérico\n",
    "            ):\n",
    "                linhas_validas.append(campos)\n",
    "\n",
    "# 📐 Cabeçalho provisório\n",
    "colunas = [f\"col_{i+1:03}\" for i in range(154)]\n",
    "df_final = pd.DataFrame(linhas_validas, columns=colunas)\n",
    "\n",
    "# 💾 Caminho de saída\n",
    "saida = os.path.join(caminho_arquivos, \"ovation_dados_filtrados.csv\")\n",
    "df_final.to_csv(saida, index=False, encoding='utf-8')\n",
    "\n",
    "# ✅ Feedback\n",
    "print(f\"\\n✅ Total de linhas válidas: {len(df_final)}\")\n",
    "print(f\"📄 Arquivo final salvo em:\\n{saida}\")\n"
   ]
  },
  {
   "cell_type": "code",
   "execution_count": 19,
   "id": "c1d1a857",
   "metadata": {},
   "outputs": [
    {
     "name": "stdout",
     "output_type": "stream",
     "text": [
      "\n",
      "🔍 Lendo: Dados WIlson início 2023 1(in).csv\n"
     ]
    },
    {
     "name": "stderr",
     "output_type": "stream",
     "text": [
      "Processando Dados WIlson início 2023 1(in).csv: 4477it [00:00, 110859.28it/s]\n"
     ]
    },
    {
     "name": "stdout",
     "output_type": "stream",
     "text": [
      "✅ Linhas válidas em Dados WIlson início 2023 1(in).csv: 4320 de 4477\n",
      "\n",
      "🔍 Lendo: Dados Wilson metade final 2023 1(in).csv\n"
     ]
    },
    {
     "name": "stderr",
     "output_type": "stream",
     "text": [
      "Processando Dados Wilson metade final 2023 1(in).csv: 4549it [00:00, 91197.52it/s]\n"
     ]
    },
    {
     "name": "stdout",
     "output_type": "stream",
     "text": [
      "✅ Linhas válidas em Dados Wilson metade final 2023 1(in).csv: 4392 de 4549\n",
      "\n",
      "🔍 Lendo: Dados Wilson início 2024 1(in).csv\n"
     ]
    },
    {
     "name": "stderr",
     "output_type": "stream",
     "text": [
      "Processando Dados Wilson início 2024 1(in).csv: 4501it [00:00, 175077.09it/s]\n"
     ]
    },
    {
     "name": "stdout",
     "output_type": "stream",
     "text": [
      "✅ Linhas válidas em Dados Wilson início 2024 1(in).csv: 0 de 4501\n",
      "\n",
      "🔍 Lendo: Dados Wilson metade final 2024 1(in).csv\n"
     ]
    },
    {
     "name": "stderr",
     "output_type": "stream",
     "text": [
      "Processando Dados Wilson metade final 2024 1(in).csv: 4549it [00:00, 187762.77it/s]"
     ]
    },
    {
     "name": "stdout",
     "output_type": "stream",
     "text": [
      "✅ Linhas válidas em Dados Wilson metade final 2024 1(in).csv: 0 de 4549\n"
     ]
    },
    {
     "name": "stderr",
     "output_type": "stream",
     "text": [
      "\n"
     ]
    },
    {
     "name": "stdout",
     "output_type": "stream",
     "text": [
      "\n",
      "📊 Total de linhas válidas dos 4 arquivos: 8712\n",
      "📄 Arquivo final salvo em:\n",
      "C:\\Users\\wilso\\MBA_EMPREENDEDORISMO\\3AGD\\A1_LOCAL\\data\\raw\\ovation\\ovation_dados_filtrados.csv\n"
     ]
    }
   ],
   "source": [
    "import os\n",
    "import pandas as pd\n",
    "from tqdm import tqdm\n",
    "\n",
    "# 📁 Diretório com os CSVs\n",
    "caminho_arquivos = r\"C:\\Users\\wilso\\MBA_EMPREENDEDORISMO\\3AGD\\A1_LOCAL\\data\\raw\\ovation\"\n",
    "\n",
    "# 📄 Nomes dos arquivos originais\n",
    "arquivos_csv = [\n",
    "    \"Dados WIlson início 2023 1(in).csv\",\n",
    "    \"Dados Wilson metade final 2023 1(in).csv\",\n",
    "    \"Dados Wilson início 2024 1(in).csv\",\n",
    "    \"Dados Wilson metade final 2024 1(in).csv\"\n",
    "]\n",
    "\n",
    "linhas_validas = []\n",
    "\n",
    "# 🔁 Para cada arquivo...\n",
    "for nome_arquivo in arquivos_csv:\n",
    "    caminho = os.path.join(caminho_arquivos, nome_arquivo)\n",
    "    print(f\"\\n🔍 Lendo: {nome_arquivo}\")\n",
    "    total_lidas = 0\n",
    "    validas_arquivo = 0\n",
    "\n",
    "    with open(caminho, encoding='latin1') as f:\n",
    "        for linha in tqdm(f, desc=f\"Processando {nome_arquivo}\"):\n",
    "            total_lidas += 1\n",
    "            campos = linha.strip().split(',')\n",
    "\n",
    "            if (\n",
    "                len(campos) == 154 and\n",
    "                campos[0].startswith('\"') and\n",
    "                '/' in campos[0] and ':' in campos[0] and\n",
    "                campos[1] == '' and campos[2] != ''\n",
    "            ):\n",
    "                linhas_validas.append(campos)\n",
    "                validas_arquivo += 1\n",
    "\n",
    "    print(f\"✅ Linhas válidas em {nome_arquivo}: {validas_arquivo} de {total_lidas}\")\n",
    "\n",
    "# 📐 Cabeçalho numérico\n",
    "colunas = [f\"col_{i+1:03}\" for i in range(154)]\n",
    "df_concat = pd.DataFrame(linhas_validas, columns=colunas)\n",
    "\n",
    "# 💾 Salvar CSV final\n",
    "saida = os.path.join(caminho_arquivos, \"ovation_dados_filtrados.csv\")\n",
    "df_concat.to_csv(saida, index=False, encoding='utf-8')\n",
    "\n",
    "print(f\"\\n📊 Total de linhas válidas dos 4 arquivos: {len(df_concat)}\")\n",
    "print(f\"📄 Arquivo final salvo em:\\n{saida}\")\n"
   ]
  },
  {
   "cell_type": "code",
   "execution_count": 20,
   "id": "3383bbbc",
   "metadata": {},
   "outputs": [
    {
     "name": "stdout",
     "output_type": "stream",
     "text": [
      "\n",
      "🔍 Lendo: Dados Wilson metade final 2023 1(in).csv\n"
     ]
    },
    {
     "name": "stderr",
     "output_type": "stream",
     "text": [
      "Processando Dados Wilson metade final 2023 1(in).csv: 4549it [00:00, 111432.98it/s]"
     ]
    },
    {
     "name": "stdout",
     "output_type": "stream",
     "text": [
      "📄 Total lidas: 4549\n",
      "✅ Linhas válidas encontradas: 4392\n"
     ]
    },
    {
     "name": "stderr",
     "output_type": "stream",
     "text": [
      "\n"
     ]
    },
    {
     "name": "stdout",
     "output_type": "stream",
     "text": [
      "\n",
      "📁 Arquivo salvo em:\n",
      "C:\\Users\\wilso\\MBA_EMPREENDEDORISMO\\3AGD\\A1_LOCAL\\data\\raw\\ovation\\ovation_dados_filtrados_2.csv\n"
     ]
    }
   ],
   "source": [
    "import os\n",
    "import pandas as pd\n",
    "from tqdm import tqdm\n",
    "\n",
    "# 📁 Caminho base\n",
    "caminho_arquivos = r\"C:\\Users\\wilso\\MBA_EMPREENDEDORISMO\\3AGD\\A1_LOCAL\\data\\raw\\ovation\"\n",
    "\n",
    "# 📄 Nome do segundo arquivo\n",
    "nome_arquivo = \"Dados Wilson metade final 2023 1(in).csv\"\n",
    "caminho = os.path.join(caminho_arquivos, nome_arquivo)\n",
    "\n",
    "# 📦 Armazena as linhas válidas\n",
    "linhas_validas = []\n",
    "\n",
    "print(f\"\\n🔍 Lendo: {nome_arquivo}\")\n",
    "total_lidas = 0\n",
    "validas = 0\n",
    "\n",
    "with open(caminho, encoding='latin1') as f:\n",
    "    for linha in tqdm(f, desc=f\"Processando {nome_arquivo}\"):\n",
    "        total_lidas += 1\n",
    "        campos = linha.strip().split(',')\n",
    "\n",
    "        if (\n",
    "            len(campos) == 154 and\n",
    "            campos[0].startswith('\"') and\n",
    "            '/' in campos[0] and ':' in campos[0] and\n",
    "            campos[1] == '' and campos[2] != ''\n",
    "        ):\n",
    "            linhas_validas.append(campos)\n",
    "            validas += 1\n",
    "\n",
    "print(f\"📄 Total lidas: {total_lidas}\")\n",
    "print(f\"✅ Linhas válidas encontradas: {validas}\")\n",
    "\n",
    "# 🧱 Cabeçalho numérico\n",
    "colunas = [f\"col_{i+1:03}\" for i in range(154)]\n",
    "df_segundo = pd.DataFrame(linhas_validas, columns=colunas)\n",
    "\n",
    "# 💾 Salvar com nome exclusivo\n",
    "saida = os.path.join(caminho_arquivos, \"ovation_dados_filtrados_2.csv\")\n",
    "df_segundo.to_csv(saida, index=False, encoding='utf-8')\n",
    "\n",
    "print(f\"\\n📁 Arquivo salvo em:\\n{saida}\")\n"
   ]
  },
  {
   "cell_type": "code",
   "execution_count": 21,
   "id": "4c4f14c1",
   "metadata": {},
   "outputs": [
    {
     "name": "stdout",
     "output_type": "stream",
     "text": [
      "\n",
      "🔍 Lendo: Dados Wilson início 2024 1(in).csv\n"
     ]
    },
    {
     "name": "stderr",
     "output_type": "stream",
     "text": [
      "Processando Dados Wilson início 2024 1(in).csv: 4501it [00:00, 134638.18it/s]"
     ]
    },
    {
     "name": "stdout",
     "output_type": "stream",
     "text": [
      "📄 Total lidas: 4501\n",
      "✅ Linhas válidas encontradas: 0\n",
      "\n",
      "📁 Arquivo salvo em:\n",
      "C:\\Users\\wilso\\MBA_EMPREENDEDORISMO\\3AGD\\A1_LOCAL\\data\\raw\\ovation\\ovation_dados_filtrados_3.csv\n"
     ]
    },
    {
     "name": "stderr",
     "output_type": "stream",
     "text": [
      "\n"
     ]
    }
   ],
   "source": [
    "import os\n",
    "import pandas as pd\n",
    "from tqdm import tqdm\n",
    "\n",
    "# 📁 Caminho base\n",
    "caminho_arquivos = r\"C:\\Users\\wilso\\MBA_EMPREENDEDORISMO\\3AGD\\A1_LOCAL\\data\\raw\\ovation\"\n",
    "\n",
    "# 📄 Nome do terceiro arquivo\n",
    "nome_arquivo = \"Dados Wilson início 2024 1(in).csv\"\n",
    "caminho = os.path.join(caminho_arquivos, nome_arquivo)\n",
    "\n",
    "# 📦 Armazena as linhas válidas\n",
    "linhas_validas = []\n",
    "\n",
    "print(f\"\\n🔍 Lendo: {nome_arquivo}\")\n",
    "total_lidas = 0\n",
    "validas = 0\n",
    "\n",
    "with open(caminho, encoding='latin1') as f:\n",
    "    for linha in tqdm(f, desc=f\"Processando {nome_arquivo}\"):\n",
    "        total_lidas += 1\n",
    "        campos = linha.strip().split(',')\n",
    "\n",
    "        if (\n",
    "            len(campos) == 154 and\n",
    "            campos[0].startswith('\"') and\n",
    "            '/' in campos[0] and ':' in campos[0] and\n",
    "            campos[1] == '' and campos[2] != ''\n",
    "        ):\n",
    "            linhas_validas.append(campos)\n",
    "            validas += 1\n",
    "\n",
    "print(f\"📄 Total lidas: {total_lidas}\")\n",
    "print(f\"✅ Linhas válidas encontradas: {validas}\")\n",
    "\n",
    "# 🧱 Cabeçalho numérico\n",
    "colunas = [f\"col_{i+1:03}\" for i in range(154)]\n",
    "df_terceiro = pd.DataFrame(linhas_validas, columns=colunas)\n",
    "\n",
    "# 💾 Salvar com nome exclusivo\n",
    "saida = os.path.join(caminho_arquivos, \"ovation_dados_filtrados_3.csv\")\n",
    "df_terceiro.to_csv(saida, index=False, encoding='utf-8')\n",
    "\n",
    "print(f\"\\n📁 Arquivo salvo em:\\n{saida}\")\n"
   ]
  },
  {
   "cell_type": "code",
   "execution_count": 22,
   "id": "bc6ed0d2",
   "metadata": {},
   "outputs": [
    {
     "name": "stdout",
     "output_type": "stream",
     "text": [
      "🔢 Linha 158 tem 1 campos\n",
      "🧪 Primeiros 5 campos: ['06/29/2024 23:00:00,,43.159 ,43.232 ,42.504 ,40.275 ,38.938 ,40.948 ,42.074 ,40.705 ,56.580 ,24.4613 ,,6.9846 ,6.7926 ,5.4346 ,825.693 ,1.872 ,2.723 ,3.550 ,4.111 ,2.591 ,1.699 ,888.215 ,830.387 ,876.699 ,855.016 ,871.531 ,847.171 ,887.133 ,879.912 ,832.673 ,508.322 ,509.192 ,0.822 ,1.024 ,817.877 ,870.971 ,95.526 ,38.672 ,8.512 ,871.988 ,887.034 ,915.060 ,-1.774 ,-1.410 ,-1.505 ,306.882 ,314.102 ,-3.426 ,-3.483 ,,,510.356 ,538.025 ,-2.986 ,-2.988 ,-2.508 ,747.937 ,787.535 ,-2.574 ,18.564 ,25.556 ,-43.302 ,1.225 ,817.236 ,1.175 ,189.907 ,899.749 ,155.677 ,0.680 ,-0.009 ,-0.394 ,0.001 ,149.817 ,133.704 ,300.668 ,286.478 ,19.578 ,19.543 ,9.456 ,9.887 ,11.071 ,11.207 ,11.902 ,8.217 ,3020.736 ,4.366 ,1.140 ,47.548 ,286.194 ,323.867 ,17.166 ,1.054 ,50.706 ,268.112 ,302.258 ,115.031 ,-6.163 ,-4.821 ,-5.065 ,-5.149 ,-5.304 ,129.059 ,-5.176 ,273.900 ,18.592 ,16.086 ,15.216 ,0.070 ,40.284 ,41.692 ,55.676 ,78.905 ,78.144 ,55.388 ,5.772 ,0.409 ,77.584 ,53.196 ,343.066 ,5.571 ,522.773 ,4.177 ,522.987 ,16.732 ,1090.233 ,1044.452 ,-8.592 ,331.627 ,2.694 ,535.301 ,874.422 ,836.236 F,70.532 ,338.000 ,535.594 ,2761.771 ,5.276 ,7.273 ,122.868 ,68.348 ,286.511 ,261.727 ,230.400 ,155.513 ,117.701 ,3.057 ,-72.138 ,-71.111 ,-0.037 ,34.228 ,3.024 ']\n"
     ]
    }
   ],
   "source": [
    "import os\n",
    "import csv\n",
    "\n",
    "# 📄 Caminho do arquivo 3\n",
    "arquivo_3 = r\"C:\\Users\\wilso\\MBA_EMPREENDEDORISMO\\3AGD\\A1_LOCAL\\data\\raw\\ovation\\Dados Wilson início 2024 1(in).csv\"\n",
    "\n",
    "# 🔍 Ler linha 158\n",
    "linha_alvo = None\n",
    "with open(arquivo_3, \"r\", encoding=\"latin1\") as f:\n",
    "    for i, linha in enumerate(f):\n",
    "        if i == 157:  # linha 158 (começando do 0)\n",
    "            linha_alvo = linha\n",
    "            break\n",
    "\n",
    "# 🧪 Analisar a linha\n",
    "if linha_alvo:\n",
    "    campos = list(csv.reader([linha_alvo]))[0]\n",
    "    print(f\"🔢 Linha 158 tem {len(campos)} campos\")\n",
    "    print(f\"🧪 Primeiros 5 campos: {campos[:5]}\")\n",
    "else:\n",
    "    print(\"❌ Linha 158 não encontrada.\")\n"
   ]
  },
  {
   "cell_type": "code",
   "execution_count": 23,
   "id": "d12f9375",
   "metadata": {},
   "outputs": [
    {
     "name": "stdout",
     "output_type": "stream",
     "text": [
      "🔢 Linha 158 tem 153 campos (com split)\n",
      "🧪 Primeiros 5 campos: ['\"06/29/2024 23:00:00', '', '43.159 ', '43.232 ', '42.504 ']\n"
     ]
    }
   ],
   "source": [
    "# 📄 Caminho do arquivo 3\n",
    "arquivo_3 = r\"C:\\Users\\wilso\\MBA_EMPREENDEDORISMO\\3AGD\\A1_LOCAL\\data\\raw\\ovation\\Dados Wilson início 2024 1(in).csv\"\n",
    "\n",
    "# 🔍 Ler linha 158 com .split(',')\n",
    "linha_alvo = None\n",
    "with open(arquivo_3, \"r\", encoding=\"latin1\") as f:\n",
    "    for i, linha in enumerate(f):\n",
    "        if i == 157:\n",
    "            linha_alvo = linha\n",
    "            break\n",
    "\n",
    "# ✅ Reanalisar com split(',')\n",
    "if linha_alvo:\n",
    "    campos = linha_alvo.strip().split(',')\n",
    "    print(f\"🔢 Linha 158 tem {len(campos)} campos (com split)\")\n",
    "    print(f\"🧪 Primeiros 5 campos: {campos[:5]}\")\n",
    "else:\n",
    "    print(\"❌ Linha 158 não encontrada.\")\n"
   ]
  },
  {
   "cell_type": "code",
   "execution_count": 24,
   "id": "fb9e57cd",
   "metadata": {},
   "outputs": [
    {
     "name": "stdout",
     "output_type": "stream",
     "text": [
      "\n",
      "🔍 Lendo: Dados Wilson início 2024 1(in).csv\n"
     ]
    },
    {
     "name": "stderr",
     "output_type": "stream",
     "text": [
      "Processando Dados Wilson início 2024 1(in).csv: 4501it [00:00, 84381.76it/s]"
     ]
    },
    {
     "name": "stdout",
     "output_type": "stream",
     "text": [
      "\n",
      "📄 Total lidas: 4501\n",
      "✅ Linhas válidas encontradas: 4344\n",
      "\n",
      "📁 Arquivo salvo em:\n",
      "C:\\Users\\wilso\\MBA_EMPREENDEDORISMO\\3AGD\\A1_LOCAL\\data\\raw\\ovation\\ovation_dados_filtrados_3.csv\n"
     ]
    },
    {
     "name": "stderr",
     "output_type": "stream",
     "text": [
      "\n"
     ]
    }
   ],
   "source": [
    "import os\n",
    "import pandas as pd\n",
    "from tqdm import tqdm\n",
    "\n",
    "# 📁 Caminho do arquivo 3\n",
    "caminho_arquivos = r\"C:\\Users\\wilso\\MBA_EMPREENDEDORISMO\\3AGD\\A1_LOCAL\\data\\raw\\ovation\"\n",
    "nome_arquivo = \"Dados Wilson início 2024 1(in).csv\"\n",
    "caminho = os.path.join(caminho_arquivos, nome_arquivo)\n",
    "\n",
    "# 📦 Lista de linhas válidas\n",
    "linhas_validas = []\n",
    "\n",
    "print(f\"\\n🔍 Lendo: {nome_arquivo}\")\n",
    "total_lidas = 0\n",
    "validas = 0\n",
    "\n",
    "with open(caminho, encoding='latin1') as f:\n",
    "    for linha in tqdm(f, desc=f\"Processando {nome_arquivo}\"):\n",
    "        total_lidas += 1\n",
    "        campos = linha.strip().split(',')\n",
    "\n",
    "        if (\n",
    "            len(campos) in [153, 154] and\n",
    "            campos[0].startswith('\"') and\n",
    "            '/' in campos[0] and ':' in campos[0] and\n",
    "            campos[1] == '' and campos[2] != ''\n",
    "        ):\n",
    "            linhas_validas.append(campos)\n",
    "            validas += 1\n",
    "\n",
    "print(f\"\\n📄 Total lidas: {total_lidas}\")\n",
    "print(f\"✅ Linhas válidas encontradas: {validas}\")\n",
    "\n",
    "# 🧱 Cabeçalho numérico para 154 colunas\n",
    "colunas = [f\"col_{i+1:03}\" for i in range(154)]\n",
    "\n",
    "# 📐 Ajustar linhas com 153 campos para ter 154\n",
    "for i in range(len(linhas_validas)):\n",
    "    if len(linhas_validas[i]) == 153:\n",
    "        linhas_validas[i].append('')  # adicionar coluna em branco no final\n",
    "\n",
    "# 🧱 Construir DataFrame\n",
    "df_ajustado = pd.DataFrame(linhas_validas, columns=colunas)\n",
    "\n",
    "# 💾 Caminho de saída\n",
    "saida = os.path.join(caminho_arquivos, \"ovation_dados_filtrados_3.csv\")\n",
    "df_ajustado.to_csv(saida, index=False, encoding='utf-8')\n",
    "\n",
    "print(f\"\\n📁 Arquivo salvo em:\\n{saida}\")\n"
   ]
  },
  {
   "cell_type": "code",
   "execution_count": 25,
   "id": "6733bf3a",
   "metadata": {},
   "outputs": [
    {
     "name": "stdout",
     "output_type": "stream",
     "text": [
      "\n",
      "🔍 Lendo: Dados Wilson metade final 2024 1(in).csv\n"
     ]
    },
    {
     "name": "stderr",
     "output_type": "stream",
     "text": [
      "Processando Dados Wilson metade final 2024 1(in).csv: 4549it [00:00, 99970.60it/s]"
     ]
    },
    {
     "name": "stdout",
     "output_type": "stream",
     "text": [
      "\n",
      "📄 Total lidas: 4549\n",
      "✅ Linhas válidas encontradas: 4392\n",
      "\n",
      "📁 Arquivo salvo em:\n",
      "C:\\Users\\wilso\\MBA_EMPREENDEDORISMO\\3AGD\\A1_LOCAL\\data\\raw\\ovation\\ovation_dados_filtrados_4.csv\n"
     ]
    },
    {
     "name": "stderr",
     "output_type": "stream",
     "text": [
      "\n"
     ]
    }
   ],
   "source": [
    "import os\n",
    "import pandas as pd\n",
    "from tqdm import tqdm\n",
    "\n",
    "# 📁 Caminho do arquivo 4\n",
    "caminho_arquivos = r\"C:\\Users\\wilso\\MBA_EMPREENDEDORISMO\\3AGD\\A1_LOCAL\\data\\raw\\ovation\"\n",
    "nome_arquivo = \"Dados Wilson metade final 2024 1(in).csv\"\n",
    "caminho = os.path.join(caminho_arquivos, nome_arquivo)\n",
    "\n",
    "# 📦 Lista de linhas válidas\n",
    "linhas_validas = []\n",
    "\n",
    "print(f\"\\n🔍 Lendo: {nome_arquivo}\")\n",
    "total_lidas = 0\n",
    "validas = 0\n",
    "\n",
    "with open(caminho, encoding='latin1') as f:\n",
    "    for linha in tqdm(f, desc=f\"Processando {nome_arquivo}\"):\n",
    "        total_lidas += 1\n",
    "        campos = linha.strip().split(',')\n",
    "\n",
    "        if (\n",
    "            len(campos) in [153, 154] and\n",
    "            campos[0].startswith('\"') and\n",
    "            '/' in campos[0] and ':' in campos[0] and\n",
    "            campos[1] == '' and campos[2] != ''\n",
    "        ):\n",
    "            linhas_validas.append(campos)\n",
    "            validas += 1\n",
    "\n",
    "print(f\"\\n📄 Total lidas: {total_lidas}\")\n",
    "print(f\"✅ Linhas válidas encontradas: {validas}\")\n",
    "\n",
    "# 🧱 Cabeçalho numérico para 154 colunas\n",
    "colunas = [f\"col_{i+1:03}\" for i in range(154)]\n",
    "\n",
    "# 📐 Ajustar linhas com 153 campos para ter 154\n",
    "for i in range(len(linhas_validas)):\n",
    "    if len(linhas_validas[i]) == 153:\n",
    "        linhas_validas[i].append('')  # adicionar coluna em branco no final\n",
    "\n",
    "# 🧱 Construir DataFrame\n",
    "df_ajustado = pd.DataFrame(linhas_validas, columns=colunas)\n",
    "\n",
    "# 💾 Caminho de saída\n",
    "saida = os.path.join(caminho_arquivos, \"ovation_dados_filtrados_4.csv\")\n",
    "df_ajustado.to_csv(saida, index=False, encoding='utf-8')\n",
    "\n",
    "print(f\"\\n📁 Arquivo salvo em:\\n{saida}\")\n"
   ]
  },
  {
   "cell_type": "code",
   "execution_count": 26,
   "id": "467c3d56",
   "metadata": {},
   "outputs": [
    {
     "name": "stderr",
     "output_type": "stream",
     "text": [
      "C:\\Users\\wilso\\AppData\\Local\\Temp\\ipykernel_25252\\2786267645.py:18: DtypeWarning: Columns (2,3,5,6,7,8,9,10,12,14,15,16,33,42,43,44,46,47,63,64,69,75,76,77,78,83,84,85,86,87,88,89,91,92,93,94,95,96,97,98,99,108,109,110,111,112,122,129,130,132,133,138,141,149,150) have mixed types. Specify dtype option on import or set low_memory=False.\n",
      "  df = pd.read_csv(caminho, encoding=\"utf-8\")\n",
      "C:\\Users\\wilso\\AppData\\Local\\Temp\\ipykernel_25252\\2786267645.py:18: DtypeWarning: Columns (2,3,6,7,8,9,10,12,14,15,16,33,42,43,44,46,47,63,64,69,75,76,77,78,83,84,85,86,89,91,92,93,94,95,96,97,98,99,108,109,110,111,112,122,129,130,132,133,140,141,149,150) have mixed types. Specify dtype option on import or set low_memory=False.\n",
      "  df = pd.read_csv(caminho, encoding=\"utf-8\")\n",
      "C:\\Users\\wilso\\AppData\\Local\\Temp\\ipykernel_25252\\2786267645.py:18: DtypeWarning: Columns (5,10,11,13,14,15,44,46,62,68,76,82,83,84,85,96,97,107,108,121,129,131,132,138,140,141,148,149) have mixed types. Specify dtype option on import or set low_memory=False.\n",
      "  df = pd.read_csv(caminho, encoding=\"utf-8\")\n"
     ]
    },
    {
     "name": "stdout",
     "output_type": "stream",
     "text": [
      "\n",
      "📊 Diagnóstico Comparativo entre os Arquivos:\n"
     ]
    },
    {
     "name": "stderr",
     "output_type": "stream",
     "text": [
      "C:\\Users\\wilso\\AppData\\Local\\Temp\\ipykernel_25252\\2786267645.py:18: DtypeWarning: Columns (2,3,4,5,6,7,8,9,10,11,13,14,15,16,17,18,19,20,21,22,23,24,25,26,27,28,29,30,31,32,33,34,35,36,37,38,39,40,41,42,43,44,45,46,47,48,49,50,53,54,55,56,57,58,59,60,61,62,63,64,65,66,67,68,69,70,71,72,73,74,75,76,77,78,79,80,81,82,83,84,85,86,87,88,89,90,91,92,93,94,95,98,99,100,101,102,103,104,105,106,107,108,109,110,111,112,113,114,115,116,117,118,119,120,121,122,123,124,125,126,127,128,129,130,131,132,134,135,136,137,138,139,140,142,143,144,145,146,147,148,149,150,151) have mixed types. Specify dtype option on import or set low_memory=False.\n",
      "  df = pd.read_csv(caminho, encoding=\"utf-8\")\n"
     ]
    },
    {
     "data": {
      "application/vnd.microsoft.datawrangler.viewer.v0+json": {
       "columns": [
        {
         "name": "index",
         "rawType": "int64",
         "type": "integer"
        },
        {
         "name": "arquivo",
         "rawType": "object",
         "type": "string"
        },
        {
         "name": "linhas_amostradas",
         "rawType": "int64",
         "type": "integer"
        },
        {
         "name": "total_colunas",
         "rawType": "int64",
         "type": "integer"
        },
        {
         "name": "media_num_colunas_nao_vazias",
         "rawType": "float64",
         "type": "float"
        },
        {
         "name": "desvio_padrao",
         "rawType": "float64",
         "type": "float"
        },
        {
         "name": "min_colunas_nao_vazias",
         "rawType": "int64",
         "type": "integer"
        },
        {
         "name": "max_colunas_nao_vazias",
         "rawType": "int64",
         "type": "integer"
        }
       ],
       "ref": "c42a87ca-e5ad-46e9-affa-bf7d8930ac1d",
       "rows": [
        [
         "0",
         "ovation_dados_filtrados_1.csv",
         "10",
         "154",
         "153.0",
         "0.0",
         "153",
         "153"
        ],
        [
         "1",
         "ovation_dados_filtrados_2.csv",
         "10",
         "154",
         "153.0",
         "0.0",
         "153",
         "153"
        ],
        [
         "2",
         "ovation_dados_filtrados_3.csv",
         "10",
         "154",
         "153.0",
         "0.0",
         "153",
         "153"
        ],
        [
         "3",
         "ovation_dados_filtrados_4.csv",
         "10",
         "154",
         "153.0",
         "0.0",
         "153",
         "153"
        ]
       ],
       "shape": {
        "columns": 7,
        "rows": 4
       }
      },
      "text/html": [
       "<div>\n",
       "<style scoped>\n",
       "    .dataframe tbody tr th:only-of-type {\n",
       "        vertical-align: middle;\n",
       "    }\n",
       "\n",
       "    .dataframe tbody tr th {\n",
       "        vertical-align: top;\n",
       "    }\n",
       "\n",
       "    .dataframe thead th {\n",
       "        text-align: right;\n",
       "    }\n",
       "</style>\n",
       "<table border=\"1\" class=\"dataframe\">\n",
       "  <thead>\n",
       "    <tr style=\"text-align: right;\">\n",
       "      <th></th>\n",
       "      <th>arquivo</th>\n",
       "      <th>linhas_amostradas</th>\n",
       "      <th>total_colunas</th>\n",
       "      <th>media_num_colunas_nao_vazias</th>\n",
       "      <th>desvio_padrao</th>\n",
       "      <th>min_colunas_nao_vazias</th>\n",
       "      <th>max_colunas_nao_vazias</th>\n",
       "    </tr>\n",
       "  </thead>\n",
       "  <tbody>\n",
       "    <tr>\n",
       "      <th>0</th>\n",
       "      <td>ovation_dados_filtrados_1.csv</td>\n",
       "      <td>10</td>\n",
       "      <td>154</td>\n",
       "      <td>153.0</td>\n",
       "      <td>0.0</td>\n",
       "      <td>153</td>\n",
       "      <td>153</td>\n",
       "    </tr>\n",
       "    <tr>\n",
       "      <th>1</th>\n",
       "      <td>ovation_dados_filtrados_2.csv</td>\n",
       "      <td>10</td>\n",
       "      <td>154</td>\n",
       "      <td>153.0</td>\n",
       "      <td>0.0</td>\n",
       "      <td>153</td>\n",
       "      <td>153</td>\n",
       "    </tr>\n",
       "    <tr>\n",
       "      <th>2</th>\n",
       "      <td>ovation_dados_filtrados_3.csv</td>\n",
       "      <td>10</td>\n",
       "      <td>154</td>\n",
       "      <td>153.0</td>\n",
       "      <td>0.0</td>\n",
       "      <td>153</td>\n",
       "      <td>153</td>\n",
       "    </tr>\n",
       "    <tr>\n",
       "      <th>3</th>\n",
       "      <td>ovation_dados_filtrados_4.csv</td>\n",
       "      <td>10</td>\n",
       "      <td>154</td>\n",
       "      <td>153.0</td>\n",
       "      <td>0.0</td>\n",
       "      <td>153</td>\n",
       "      <td>153</td>\n",
       "    </tr>\n",
       "  </tbody>\n",
       "</table>\n",
       "</div>"
      ],
      "text/plain": [
       "                         arquivo  linhas_amostradas  total_colunas  \\\n",
       "0  ovation_dados_filtrados_1.csv                 10            154   \n",
       "1  ovation_dados_filtrados_2.csv                 10            154   \n",
       "2  ovation_dados_filtrados_3.csv                 10            154   \n",
       "3  ovation_dados_filtrados_4.csv                 10            154   \n",
       "\n",
       "   media_num_colunas_nao_vazias  desvio_padrao  min_colunas_nao_vazias  \\\n",
       "0                         153.0            0.0                     153   \n",
       "1                         153.0            0.0                     153   \n",
       "2                         153.0            0.0                     153   \n",
       "3                         153.0            0.0                     153   \n",
       "\n",
       "   max_colunas_nao_vazias  \n",
       "0                     153  \n",
       "1                     153  \n",
       "2                     153  \n",
       "3                     153  "
      ]
     },
     "metadata": {},
     "output_type": "display_data"
    }
   ],
   "source": [
    "import os\n",
    "import pandas as pd\n",
    "import numpy as np\n",
    "\n",
    "# Caminho base dos arquivos já filtrados\n",
    "base_path = r\"C:\\Users\\wilso\\MBA_EMPREENDEDORISMO\\3AGD\\A1_LOCAL\\data\\raw\\ovation\"\n",
    "arquivos = [\n",
    "    \"ovation_dados_filtrados_1.csv\",\n",
    "    \"ovation_dados_filtrados_2.csv\",\n",
    "    \"ovation_dados_filtrados_3.csv\",\n",
    "    \"ovation_dados_filtrados_4.csv\"\n",
    "]\n",
    "\n",
    "diagnostico = []\n",
    "\n",
    "for nome_arquivo in arquivos:\n",
    "    caminho = os.path.join(base_path, nome_arquivo)\n",
    "    df = pd.read_csv(caminho, encoding=\"utf-8\")\n",
    "\n",
    "    # Amostragem de 10 linhas distribuídas ao longo do dataset\n",
    "    amostras = df.iloc[np.linspace(0, len(df) - 1, 10, dtype=int)].copy()\n",
    "\n",
    "    # Contar quantos campos não estão vazios por linha (exceto o timestamp)\n",
    "    nao_vazios_por_linha = (amostras.iloc[:, 1:] != '').sum(axis=1)\n",
    "\n",
    "    diagnostico.append({\n",
    "        \"arquivo\": nome_arquivo,\n",
    "        \"linhas_amostradas\": len(amostras),\n",
    "        \"total_colunas\": df.shape[1],\n",
    "        \"media_num_colunas_nao_vazias\": nao_vazios_por_linha.mean(),\n",
    "        \"desvio_padrao\": nao_vazios_por_linha.std(),\n",
    "        \"min_colunas_nao_vazias\": nao_vazios_por_linha.min(),\n",
    "        \"max_colunas_nao_vazias\": nao_vazios_por_linha.max()\n",
    "    })\n",
    "\n",
    "# Resultado final\n",
    "df_resultado = pd.DataFrame(diagnostico)\n",
    "print(\"\\n📊 Diagnóstico Comparativo entre os Arquivos:\")\n",
    "display(df_resultado)\n"
   ]
  },
  {
   "cell_type": "code",
   "execution_count": 27,
   "id": "e60c0464",
   "metadata": {},
   "outputs": [
    {
     "name": "stdout",
     "output_type": "stream",
     "text": [
      "📥 Lendo: ovation_dados_filtrados_1.csv\n",
      "📥 Lendo: ovation_dados_filtrados_2.csv\n"
     ]
    },
    {
     "name": "stderr",
     "output_type": "stream",
     "text": [
      "C:\\Users\\wilso\\AppData\\Local\\Temp\\ipykernel_25252\\190084973.py:22: DtypeWarning: Columns (2,3,5,6,7,8,9,10,12,14,15,16,33,42,43,44,46,47,63,64,69,75,76,77,78,83,84,85,86,87,88,89,91,92,93,94,95,96,97,98,99,108,109,110,111,112,122,129,130,132,133,138,141,149,150) have mixed types. Specify dtype option on import or set low_memory=False.\n",
      "  df = pd.read_csv(caminho, encoding=\"utf-8\")\n",
      "C:\\Users\\wilso\\AppData\\Local\\Temp\\ipykernel_25252\\190084973.py:22: DtypeWarning: Columns (2,3,6,7,8,9,10,12,14,15,16,33,42,43,44,46,47,63,64,69,75,76,77,78,83,84,85,86,89,91,92,93,94,95,96,97,98,99,108,109,110,111,112,122,129,130,132,133,140,141,149,150) have mixed types. Specify dtype option on import or set low_memory=False.\n",
      "  df = pd.read_csv(caminho, encoding=\"utf-8\")\n",
      "C:\\Users\\wilso\\AppData\\Local\\Temp\\ipykernel_25252\\190084973.py:22: DtypeWarning: Columns (5,10,11,13,14,15,44,46,62,68,76,82,83,84,85,96,97,107,108,121,129,131,132,138,140,141,148,149) have mixed types. Specify dtype option on import or set low_memory=False.\n",
      "  df = pd.read_csv(caminho, encoding=\"utf-8\")\n"
     ]
    },
    {
     "name": "stdout",
     "output_type": "stream",
     "text": [
      "📥 Lendo: ovation_dados_filtrados_3.csv\n",
      "📥 Lendo: ovation_dados_filtrados_4.csv\n"
     ]
    },
    {
     "name": "stderr",
     "output_type": "stream",
     "text": [
      "C:\\Users\\wilso\\AppData\\Local\\Temp\\ipykernel_25252\\190084973.py:22: DtypeWarning: Columns (2,3,4,5,6,7,8,9,10,11,13,14,15,16,17,18,19,20,21,22,23,24,25,26,27,28,29,30,31,32,33,34,35,36,37,38,39,40,41,42,43,44,45,46,47,48,49,50,53,54,55,56,57,58,59,60,61,62,63,64,65,66,67,68,69,70,71,72,73,74,75,76,77,78,79,80,81,82,83,84,85,86,87,88,89,90,91,92,93,94,95,98,99,100,101,102,103,104,105,106,107,108,109,110,111,112,113,114,115,116,117,118,119,120,121,122,123,124,125,126,127,128,129,130,131,132,134,135,136,137,138,139,140,142,143,144,145,146,147,148,149,150,151) have mixed types. Specify dtype option on import or set low_memory=False.\n",
      "  df = pd.read_csv(caminho, encoding=\"utf-8\")\n"
     ]
    },
    {
     "name": "stdout",
     "output_type": "stream",
     "text": [
      "\n",
      "✅ Arquivo final salvo em:\n",
      "C:\\Users\\wilso\\MBA_EMPREENDEDORISMO\\3AGD\\A1_LOCAL\\data\\raw\\ovation\\ovation_dados_curado.csv\n",
      "📦 Total de registros concatenados: 21840\n",
      "📊 Total de colunas: 154\n"
     ]
    }
   ],
   "source": [
    "import os\n",
    "import pandas as pd\n",
    "\n",
    "# Caminho base onde estão os arquivos filtrados\n",
    "base_path = r\"C:\\Users\\wilso\\MBA_EMPREENDEDORISMO\\3AGD\\A1_LOCAL\\data\\raw\\ovation\"\n",
    "\n",
    "# Arquivos validados\n",
    "arquivos_filtrados = [\n",
    "    \"ovation_dados_filtrados_1.csv\",\n",
    "    \"ovation_dados_filtrados_2.csv\",\n",
    "    \"ovation_dados_filtrados_3.csv\",\n",
    "    \"ovation_dados_filtrados_4.csv\"\n",
    "]\n",
    "\n",
    "# Lista para armazenar os DataFrames\n",
    "dfs = []\n",
    "\n",
    "# Carregar todos os arquivos e adicionar à lista\n",
    "for nome_arquivo in arquivos_filtrados:\n",
    "    caminho = os.path.join(base_path, nome_arquivo)\n",
    "    print(f\"📥 Lendo: {nome_arquivo}\")\n",
    "    df = pd.read_csv(caminho, encoding=\"utf-8\")\n",
    "    dfs.append(df)\n",
    "\n",
    "# Concatenar todos os DataFrames\n",
    "df_final = pd.concat(dfs, ignore_index=True)\n",
    "\n",
    "# Caminho de salvamento\n",
    "arquivo_saida = os.path.join(base_path, \"ovation_dados_curado.csv\")\n",
    "\n",
    "# Salvar resultado final\n",
    "df_final.to_csv(arquivo_saida, index=False, encoding=\"utf-8\")\n",
    "print(f\"\\n✅ Arquivo final salvo em:\\n{arquivo_saida}\")\n",
    "print(f\"📦 Total de registros concatenados: {len(df_final)}\")\n",
    "print(f\"📊 Total de colunas: {df_final.shape[1]}\")\n"
   ]
  },
  {
   "cell_type": "code",
   "execution_count": 33,
   "id": "ccd06382",
   "metadata": {},
   "outputs": [
    {
     "name": "stdout",
     "output_type": "stream",
     "text": [
      "📄 Formato detectado: 625 linhas × 3 colunas\n",
      "\n"
     ]
    },
    {
     "data": {
      "application/vnd.microsoft.datawrangler.viewer.v0+json": {
       "columns": [
        {
         "name": "index",
         "rawType": "int64",
         "type": "integer"
        },
        {
         "name": "0",
         "rawType": "object",
         "type": "string"
        },
        {
         "name": "1",
         "rawType": "object",
         "type": "string"
        },
        {
         "name": "2",
         "rawType": "object",
         "type": "string"
        }
       ],
       "ref": "668602ba-533c-4f49-9b20-cd5ca9e5a7df",
       "rows": [
        [
         "0",
         "linha",
         "conteudo",
         "arquivo_origem"
        ],
        [
         "1",
         "1",
         "\"Monday, January 20, 2025,,,,,,Wilson,,,,,,,Page 1 of 1,,,,,,,,,,,,,,,,,,,,,,,,,,,,,,,,,,,,,,,,,,,,,,,,,,,,,,,,,,,,,,,,,,,,,,,,,,,,,,,,,,,,,,,,,,,,,,,,,,,,,,,,,,,,,,,,,,,,,,,,,,,,,,,,,,,,,,,,,,,,\"",
         "Dados WIlson inÃ­cio 2023 1(in).csv"
        ],
        [
         "2",
         "2",
         "\"Start Time : 01/01/2023 00:00:00,,,,,,,,,,,,,,,,,,,,,,,,,,,,,,,,,,,,,,,,,,,,,,,,,,,,,,,,,,,,,,,,,,,,,,,,,,,,,,,,,,,,,,,,,,,,,,,,,,,,,,,,,,,,,,,,,,,,,,,,,,,,,,,,,,,,,,,,,,,,,,,,,,,,,,,,,\"",
         "Dados WIlson inÃ­cio 2023 1(in).csv"
        ],
        [
         "3",
         "3",
         "\"End Time : 06/30/2023 00:00:00,,,,,,,,,,,,,,,,,,,,,,,,,,,,,,,,,,,,,,,,,,,,,,,,,,,,,,,,,,,,,,,,,,,,,,,,,,,,,,,,,,,,,,,,,,,,,,,,,,,,,,,,,,,,,,,,,,,,,,,,,,,,,,,,,,,,,,,,,,,,,,,,,,,,,,,,,\"",
         "Dados WIlson inÃ­cio 2023 1(in).csv"
        ],
        [
         "4",
         "4",
         "\" ,,,,,,,,,,,,,,,,,,,,,,,,,,,,,,,,,,,,,,,,,,,,,,,,,,,,,,,,,,,,,,,,,,,,,,,,,,,,,,,,,,,,,,,,,,,,,,,,,,,,,,,,,,,,,,,,,,,,,,,,,,,,,,,,,,,,,,,,,,,,,,,,,,,,,,,,,\"",
         "Dados WIlson inÃ­cio 2023 1(in).csv"
        ],
        [
         "5",
         "5",
         "\",G,Point Name,,Historian,Processing Type,Description,,,End Value,Units,S,Low Scale,High Scale,,,,,,,,,,,,,,,,,,,,,,,,,,,,,,,,,,,,,,,,,,,,,,,,,,,,,,,,,,,,,,,,,,,,,,,,,,,,,,,,,,,,,,,,,,,,,,,,,,,,,,,,,,,,,,,,,,,,,,,,,,,,,,,,,,,,,,,,,,,,\"",
         "Dados WIlson inÃ­cio 2023 1(in).csv"
        ],
        [
         "6",
         "6",
         "\"1,On,(A) 10HFB11CW902.UNIT1@NET1,,Auto Historian,Actual,FLW OUTPUT OF BELT COAL FDR A1,,,36.421 ,t/h,On,0,60,,,,,,,,,,,,,,,,,,,,,,,,,,,,,,,,,,,,,,,,,,,,,,,,,,,,,,,,,,,,,,,,,,,,,,,,,,,,,,,,,,,,,,,,,,,,,,,,,,,,,,,,,,,,,,,,,,,,,,,,,,,,,,,,,,,,,,,,,,,,\"",
         "Dados WIlson inÃ­cio 2023 1(in).csv"
        ],
        [
         "7",
         "7",
         "\"2,On,(A) 10HFB12CW902.UNIT1@NET1,,Auto Historian,Actual,FLW OUTPUT OF BELT COAL FDR A2,,,34.168 ,t/h,On,0,60,,,,,,,,,,,,,,,,,,,,,,,,,,,,,,,,,,,,,,,,,,,,,,,,,,,,,,,,,,,,,,,,,,,,,,,,,,,,,,,,,,,,,,,,,,,,,,,,,,,,,,,,,,,,,,,,,,,,,,,,,,,,,,,,,,,,,,,,,,,,\"",
         "Dados WIlson inÃ­cio 2023 1(in).csv"
        ],
        [
         "8",
         "8",
         "\"3,On,(A) 10HFB21CW902.UNIT1@NET1,,Auto Historian,Actual,FLW OUTPUT OF BELT COAL FDR B1,,,33.509 ,t/h,On,0,60,,,,,,,,,,,,,,,,,,,,,,,,,,,,,,,,,,,,,,,,,,,,,,,,,,,,,,,,,,,,,,,,,,,,,,,,,,,,,,,,,,,,,,,,,,,,,,,,,,,,,,,,,,,,,,,,,,,,,,,,,,,,,,,,,,,,,,,,,,,,\"",
         "Dados WIlson inÃ­cio 2023 1(in).csv"
        ],
        [
         "9",
         "9",
         "\"4,On,(A) 10HFB22CW902.UNIT1@NET1,,Auto Historian,Actual,FLW OUTPUT OF BELT COAL FDR B2,,,34.521 ,t/h,On,0,60,,,,,,,,,,,,,,,,,,,,,,,,,,,,,,,,,,,,,,,,,,,,,,,,,,,,,,,,,,,,,,,,,,,,,,,,,,,,,,,,,,,,,,,,,,,,,,,,,,,,,,,,,,,,,,,,,,,,,,,,,,,,,,,,,,,,,,,,,,,,\"",
         "Dados WIlson inÃ­cio 2023 1(in).csv"
        ],
        [
         "10",
         "10",
         "\"5,On,(A) 10HFB23CW902.UNIT1@NET1,,Auto Historian,Actual,FLW OUTPUT OF BELT COAL FDR B3,,,29.797 ,t/h,On,0,60,,,,,,,,,,,,,,,,,,,,,,,,,,,,,,,,,,,,,,,,,,,,,,,,,,,,,,,,,,,,,,,,,,,,,,,,,,,,,,,,,,,,,,,,,,,,,,,,,,,,,,,,,,,,,,,,,,,,,,,,,,,,,,,,,,,,,,,,,,,,\"",
         "Dados WIlson inÃ­cio 2023 1(in).csv"
        ],
        [
         "11",
         "11",
         "\"6,On,(A) 10HFB24CW902.UNIT1@NET1,,Auto Historian,Actual,FLW OUTPUT OF BELT COAL FDR B4,,,32.795 ,t/h,On,0,60,,,,,,,,,,,,,,,,,,,,,,,,,,,,,,,,,,,,,,,,,,,,,,,,,,,,,,,,,,,,,,,,,,,,,,,,,,,,,,,,,,,,,,,,,,,,,,,,,,,,,,,,,,,,,,,,,,,,,,,,,,,,,,,,,,,,,,,,,,,,\"",
         "Dados WIlson inÃ­cio 2023 1(in).csv"
        ],
        [
         "12",
         "12",
         "\"7,On,(A) 10HFB31CW902.UNIT1@NET1,,Auto Historian,Actual,FLW OUTPUT OF BELT COAL FDR C1,,,32.676 ,t/h,On,0,60,,,,,,,,,,,,,,,,,,,,,,,,,,,,,,,,,,,,,,,,,,,,,,,,,,,,,,,,,,,,,,,,,,,,,,,,,,,,,,,,,,,,,,,,,,,,,,,,,,,,,,,,,,,,,,,,,,,,,,,,,,,,,,,,,,,,,,,,,,,,\"",
         "Dados WIlson inÃ­cio 2023 1(in).csv"
        ],
        [
         "13",
         "13",
         "\"8,On,(A) 10HFB32CW902.UNIT1@NET1,,Auto Historian,Actual,FLW OUTPUT OF BELT COAL FDR C2,,,32.603 ,t/h,On,0,60,,,,,,,,,,,,,,,,,,,,,,,,,,,,,,,,,,,,,,,,,,,,,,,,,,,,,,,,,,,,,,,,,,,,,,,,,,,,,,,,,,,,,,,,,,,,,,,,,,,,,,,,,,,,,,,,,,,,,,,,,,,,,,,,,,,,,,,,,,,,\"",
         "Dados WIlson inÃ­cio 2023 1(in).csv"
        ],
        [
         "14",
         "14",
         "\"9,On,(A) 10PORC-AR-PRIMARIO.UNIT1@NET1,,Auto Historian,Actual,PORCENTAGEM DE AR PRIMARIO,,,51.230 ,%,On,0,100,,,,,,,,,,,,,,,,,,,,,,,,,,,,,,,,,,,,,,,,,,,,,,,,,,,,,,,,,,,,,,,,,,,,,,,,,,,,,,,,,,,,,,,,,,,,,,,,,,,,,,,,,,,,,,,,,,,,,,,,,,,,,,,,,,,,,,,,,,,,\"",
         "Dados WIlson inÃ­cio 2023 1(in).csv"
        ],
        [
         "15",
         "15",
         "\"10,On,(A) UPPER-AIR-PERC-FLOW.UNIT1@NET1,,Auto Historian,Actual,UPPER-PERC DO AR TOTAL,,,25.7361 ,%,On,0,100,,,,,,,,,,,,,,,,,,,,,,,,,,,,,,,,,,,,,,,,,,,,,,,,,,,,,,,,,,,,,,,,,,,,,,,,,,,,,,,,,,,,,,,,,,,,,,,,,,,,,,,,,,,,,,,,,,,,,,,,,,,,,,,,,,,,,,,,,,,,\"",
         "Dados WIlson inÃ­cio 2023 1(in).csv"
        ],
        [
         "16",
         "16",
         "\"11,On,(A) BURNER-AIR-PERC-FLOW.UNIT1@NET1,,Auto Historian,Actual,BURNER-PERC DO AR TOTAL,,,7.9383 ,%,Off,0,100,,,,,,,,,,,,,,,,,,,,,,,,,,,,,,,,,,,,,,,,,,,,,,,,,,,,,,,,,,,,,,,,,,,,,,,,,,,,,,,,,,,,,,,,,,,,,,,,,,,,,,,,,,,,,,,,,,,,,,,,,,,,,,,,,,,,,,,,,,,,\"",
         "Dados WIlson inÃ­cio 2023 1(in).csv"
        ],
        [
         "17",
         "17",
         "\"12,On,(A) LOWER-AIR-PERC-FLOW.UNIT1@NET1,,Auto Historian,Actual,LOWER-PERC DO AR TOTAL,,,7.4593 ,%,Off,0,100,,,,,,,,,,,,,,,,,,,,,,,,,,,,,,,,,,,,,,,,,,,,,,,,,,,,,,,,,,,,,,,,,,,,,,,,,,,,,,,,,,,,,,,,,,,,,,,,,,,,,,,,,,,,,,,,,,,,,,,,,,,,,,,,,,,,,,,,,,,,\"",
         "Dados WIlson inÃ­cio 2023 1(in).csv"
        ],
        [
         "18",
         "18",
         "\"13,On,(A) COAL-AIR-PERC-FLOW.UNIT1@NET1,,Auto Historian,Actual,COAL-PERC DO AR TOTAL,,,5.7430 ,%,Off,0,100,,,,,,,,,,,,,,,,,,,,,,,,,,,,,,,,,,,,,,,,,,,,,,,,,,,,,,,,,,,,,,,,,,,,,,,,,,,,,,,,,,,,,,,,,,,,,,,,,,,,,,,,,,,,,,,,,,,,,,,,,,,,,,,,,,,,,,,,,,,,\"",
         "Dados WIlson inÃ­cio 2023 1(in).csv"
        ],
        [
         "19",
         "19",
         "\"14,On,(A) 10HBK10CT101-SEL.UNIT1@NET1,,Auto Historian,Actual,TEMP 1 OF FURNACE A INNER,,,791.737 ,Â°C,Off,0,1200,,,,,,,,,,,,,,,,,,,,,,,,,,,,,,,,,,,,,,,,,,,,,,,,,,,,,,,,,,,,,,,,,,,,,,,,,,,,,,,,,,,,,,,,,,,,,,,,,,,,,,,,,,,,,,,,,,,,,,,,,,,,,,,,,,,,,,,,,,,,\"",
         "Dados WIlson inÃ­cio 2023 1(in).csv"
        ]
       ],
       "shape": {
        "columns": 3,
        "rows": 20
       }
      },
      "text/html": [
       "<div>\n",
       "<style scoped>\n",
       "    .dataframe tbody tr th:only-of-type {\n",
       "        vertical-align: middle;\n",
       "    }\n",
       "\n",
       "    .dataframe tbody tr th {\n",
       "        vertical-align: top;\n",
       "    }\n",
       "\n",
       "    .dataframe thead th {\n",
       "        text-align: right;\n",
       "    }\n",
       "</style>\n",
       "<table border=\"1\" class=\"dataframe\">\n",
       "  <thead>\n",
       "    <tr style=\"text-align: right;\">\n",
       "      <th></th>\n",
       "      <th>0</th>\n",
       "      <th>1</th>\n",
       "      <th>2</th>\n",
       "    </tr>\n",
       "  </thead>\n",
       "  <tbody>\n",
       "    <tr>\n",
       "      <th>0</th>\n",
       "      <td>linha</td>\n",
       "      <td>conteudo</td>\n",
       "      <td>arquivo_origem</td>\n",
       "    </tr>\n",
       "    <tr>\n",
       "      <th>1</th>\n",
       "      <td>1</td>\n",
       "      <td>\"Monday, January 20, 2025,,,,,,Wilson,,,,,,,Pa...</td>\n",
       "      <td>Dados WIlson inÃ­cio 2023 1(in).csv</td>\n",
       "    </tr>\n",
       "    <tr>\n",
       "      <th>2</th>\n",
       "      <td>2</td>\n",
       "      <td>\"Start Time : 01/01/2023 00:00:00,,,,,,,,,,,,,...</td>\n",
       "      <td>Dados WIlson inÃ­cio 2023 1(in).csv</td>\n",
       "    </tr>\n",
       "    <tr>\n",
       "      <th>3</th>\n",
       "      <td>3</td>\n",
       "      <td>\"End Time : 06/30/2023 00:00:00,,,,,,,,,,,,,,,...</td>\n",
       "      <td>Dados WIlson inÃ­cio 2023 1(in).csv</td>\n",
       "    </tr>\n",
       "    <tr>\n",
       "      <th>4</th>\n",
       "      <td>4</td>\n",
       "      <td>\" ,,,,,,,,,,,,,,,,,,,,,,,,,,,,,,,,,,,,,,,,,,,,...</td>\n",
       "      <td>Dados WIlson inÃ­cio 2023 1(in).csv</td>\n",
       "    </tr>\n",
       "    <tr>\n",
       "      <th>5</th>\n",
       "      <td>5</td>\n",
       "      <td>\",G,Point Name,,Historian,Processing Type,Desc...</td>\n",
       "      <td>Dados WIlson inÃ­cio 2023 1(in).csv</td>\n",
       "    </tr>\n",
       "    <tr>\n",
       "      <th>6</th>\n",
       "      <td>6</td>\n",
       "      <td>\"1,On,(A) 10HFB11CW902.UNIT1@NET1,,Auto Histor...</td>\n",
       "      <td>Dados WIlson inÃ­cio 2023 1(in).csv</td>\n",
       "    </tr>\n",
       "    <tr>\n",
       "      <th>7</th>\n",
       "      <td>7</td>\n",
       "      <td>\"2,On,(A) 10HFB12CW902.UNIT1@NET1,,Auto Histor...</td>\n",
       "      <td>Dados WIlson inÃ­cio 2023 1(in).csv</td>\n",
       "    </tr>\n",
       "    <tr>\n",
       "      <th>8</th>\n",
       "      <td>8</td>\n",
       "      <td>\"3,On,(A) 10HFB21CW902.UNIT1@NET1,,Auto Histor...</td>\n",
       "      <td>Dados WIlson inÃ­cio 2023 1(in).csv</td>\n",
       "    </tr>\n",
       "    <tr>\n",
       "      <th>9</th>\n",
       "      <td>9</td>\n",
       "      <td>\"4,On,(A) 10HFB22CW902.UNIT1@NET1,,Auto Histor...</td>\n",
       "      <td>Dados WIlson inÃ­cio 2023 1(in).csv</td>\n",
       "    </tr>\n",
       "    <tr>\n",
       "      <th>10</th>\n",
       "      <td>10</td>\n",
       "      <td>\"5,On,(A) 10HFB23CW902.UNIT1@NET1,,Auto Histor...</td>\n",
       "      <td>Dados WIlson inÃ­cio 2023 1(in).csv</td>\n",
       "    </tr>\n",
       "    <tr>\n",
       "      <th>11</th>\n",
       "      <td>11</td>\n",
       "      <td>\"6,On,(A) 10HFB24CW902.UNIT1@NET1,,Auto Histor...</td>\n",
       "      <td>Dados WIlson inÃ­cio 2023 1(in).csv</td>\n",
       "    </tr>\n",
       "    <tr>\n",
       "      <th>12</th>\n",
       "      <td>12</td>\n",
       "      <td>\"7,On,(A) 10HFB31CW902.UNIT1@NET1,,Auto Histor...</td>\n",
       "      <td>Dados WIlson inÃ­cio 2023 1(in).csv</td>\n",
       "    </tr>\n",
       "    <tr>\n",
       "      <th>13</th>\n",
       "      <td>13</td>\n",
       "      <td>\"8,On,(A) 10HFB32CW902.UNIT1@NET1,,Auto Histor...</td>\n",
       "      <td>Dados WIlson inÃ­cio 2023 1(in).csv</td>\n",
       "    </tr>\n",
       "    <tr>\n",
       "      <th>14</th>\n",
       "      <td>14</td>\n",
       "      <td>\"9,On,(A) 10PORC-AR-PRIMARIO.UNIT1@NET1,,Auto ...</td>\n",
       "      <td>Dados WIlson inÃ­cio 2023 1(in).csv</td>\n",
       "    </tr>\n",
       "    <tr>\n",
       "      <th>15</th>\n",
       "      <td>15</td>\n",
       "      <td>\"10,On,(A) UPPER-AIR-PERC-FLOW.UNIT1@NET1,,Aut...</td>\n",
       "      <td>Dados WIlson inÃ­cio 2023 1(in).csv</td>\n",
       "    </tr>\n",
       "    <tr>\n",
       "      <th>16</th>\n",
       "      <td>16</td>\n",
       "      <td>\"11,On,(A) BURNER-AIR-PERC-FLOW.UNIT1@NET1,,Au...</td>\n",
       "      <td>Dados WIlson inÃ­cio 2023 1(in).csv</td>\n",
       "    </tr>\n",
       "    <tr>\n",
       "      <th>17</th>\n",
       "      <td>17</td>\n",
       "      <td>\"12,On,(A) LOWER-AIR-PERC-FLOW.UNIT1@NET1,,Aut...</td>\n",
       "      <td>Dados WIlson inÃ­cio 2023 1(in).csv</td>\n",
       "    </tr>\n",
       "    <tr>\n",
       "      <th>18</th>\n",
       "      <td>18</td>\n",
       "      <td>\"13,On,(A) COAL-AIR-PERC-FLOW.UNIT1@NET1,,Auto...</td>\n",
       "      <td>Dados WIlson inÃ­cio 2023 1(in).csv</td>\n",
       "    </tr>\n",
       "    <tr>\n",
       "      <th>19</th>\n",
       "      <td>19</td>\n",
       "      <td>\"14,On,(A) 10HBK10CT101-SEL.UNIT1@NET1,,Auto H...</td>\n",
       "      <td>Dados WIlson inÃ­cio 2023 1(in).csv</td>\n",
       "    </tr>\n",
       "  </tbody>\n",
       "</table>\n",
       "</div>"
      ],
      "text/plain": [
       "        0                                                  1  \\\n",
       "0   linha                                           conteudo   \n",
       "1       1  \"Monday, January 20, 2025,,,,,,Wilson,,,,,,,Pa...   \n",
       "2       2  \"Start Time : 01/01/2023 00:00:00,,,,,,,,,,,,,...   \n",
       "3       3  \"End Time : 06/30/2023 00:00:00,,,,,,,,,,,,,,,...   \n",
       "4       4  \" ,,,,,,,,,,,,,,,,,,,,,,,,,,,,,,,,,,,,,,,,,,,,...   \n",
       "5       5  \",G,Point Name,,Historian,Processing Type,Desc...   \n",
       "6       6  \"1,On,(A) 10HFB11CW902.UNIT1@NET1,,Auto Histor...   \n",
       "7       7  \"2,On,(A) 10HFB12CW902.UNIT1@NET1,,Auto Histor...   \n",
       "8       8  \"3,On,(A) 10HFB21CW902.UNIT1@NET1,,Auto Histor...   \n",
       "9       9  \"4,On,(A) 10HFB22CW902.UNIT1@NET1,,Auto Histor...   \n",
       "10     10  \"5,On,(A) 10HFB23CW902.UNIT1@NET1,,Auto Histor...   \n",
       "11     11  \"6,On,(A) 10HFB24CW902.UNIT1@NET1,,Auto Histor...   \n",
       "12     12  \"7,On,(A) 10HFB31CW902.UNIT1@NET1,,Auto Histor...   \n",
       "13     13  \"8,On,(A) 10HFB32CW902.UNIT1@NET1,,Auto Histor...   \n",
       "14     14  \"9,On,(A) 10PORC-AR-PRIMARIO.UNIT1@NET1,,Auto ...   \n",
       "15     15  \"10,On,(A) UPPER-AIR-PERC-FLOW.UNIT1@NET1,,Aut...   \n",
       "16     16  \"11,On,(A) BURNER-AIR-PERC-FLOW.UNIT1@NET1,,Au...   \n",
       "17     17  \"12,On,(A) LOWER-AIR-PERC-FLOW.UNIT1@NET1,,Aut...   \n",
       "18     18  \"13,On,(A) COAL-AIR-PERC-FLOW.UNIT1@NET1,,Auto...   \n",
       "19     19  \"14,On,(A) 10HBK10CT101-SEL.UNIT1@NET1,,Auto H...   \n",
       "\n",
       "                                      2  \n",
       "0                        arquivo_origem  \n",
       "1   Dados WIlson inÃ­cio 2023 1(in).csv  \n",
       "2   Dados WIlson inÃ­cio 2023 1(in).csv  \n",
       "3   Dados WIlson inÃ­cio 2023 1(in).csv  \n",
       "4   Dados WIlson inÃ­cio 2023 1(in).csv  \n",
       "5   Dados WIlson inÃ­cio 2023 1(in).csv  \n",
       "6   Dados WIlson inÃ­cio 2023 1(in).csv  \n",
       "7   Dados WIlson inÃ­cio 2023 1(in).csv  \n",
       "8   Dados WIlson inÃ­cio 2023 1(in).csv  \n",
       "9   Dados WIlson inÃ­cio 2023 1(in).csv  \n",
       "10  Dados WIlson inÃ­cio 2023 1(in).csv  \n",
       "11  Dados WIlson inÃ­cio 2023 1(in).csv  \n",
       "12  Dados WIlson inÃ­cio 2023 1(in).csv  \n",
       "13  Dados WIlson inÃ­cio 2023 1(in).csv  \n",
       "14  Dados WIlson inÃ­cio 2023 1(in).csv  \n",
       "15  Dados WIlson inÃ­cio 2023 1(in).csv  \n",
       "16  Dados WIlson inÃ­cio 2023 1(in).csv  \n",
       "17  Dados WIlson inÃ­cio 2023 1(in).csv  \n",
       "18  Dados WIlson inÃ­cio 2023 1(in).csv  \n",
       "19  Dados WIlson inÃ­cio 2023 1(in).csv  "
      ]
     },
     "metadata": {},
     "output_type": "display_data"
    }
   ],
   "source": [
    "import pandas as pd\n",
    "\n",
    "# Caminho do arquivo real com os campos\n",
    "CAMINHO_CAMPOS = r\"C:\\Users\\wilso\\MBA_EMPREENDEDORISMO\\3AGD\\A1_LOCAL\\data\\raw\\ovation\\ovation_campos.csv\"\n",
    "\n",
    "# Diagnóstico inicial sem header e sem skiprows\n",
    "df_diagnostico = pd.read_csv(CAMINHO_CAMPOS, encoding=\"latin1\", header=None)\n",
    "\n",
    "# Mostrar dimensões e as primeiras 20 linhas\n",
    "print(f\"📄 Formato detectado: {df_diagnostico.shape[0]} linhas × {df_diagnostico.shape[1]} colunas\\n\")\n",
    "display(df_diagnostico.head(20))\n"
   ]
  },
  {
   "cell_type": "code",
   "execution_count": 34,
   "id": "39c5a277",
   "metadata": {},
   "outputs": [
    {
     "name": "stdout",
     "output_type": "stream",
     "text": [
      "✅ Mapeamento de nomes curtos gerado com sucesso!\n",
      "📁 Arquivo salvo em: C:\\Users\\wilso\\MBA_EMPREENDEDORISMO\\3AGD\\A1_LOCAL\\data\\raw\\ovation\\ovation_mapeamento_colunas.csv\n",
      "🔢 Total de variáveis mapeadas: 619\n"
     ]
    },
    {
     "data": {
      "application/vnd.microsoft.datawrangler.viewer.v0+json": {
       "columns": [
        {
         "name": "index",
         "rawType": "int64",
         "type": "integer"
        },
        {
         "name": "point_name",
         "rawType": "object",
         "type": "string"
        },
        {
         "name": "descricao",
         "rawType": "object",
         "type": "string"
        },
        {
         "name": "unidade",
         "rawType": "object",
         "type": "string"
        },
        {
         "name": "nome_curto",
         "rawType": "object",
         "type": "string"
        }
       ],
       "ref": "9a316435-ff89-4e12-b213-857a88287511",
       "rows": [
        [
         "0",
         "(A) 10HFB11CW902.UNIT1@NET1",
         "FLW OUTPUT OF BELT COAL FDR A1",
         "t/h",
         "flw_output_of_belt_coal_fdr_a1"
        ],
        [
         "1",
         "(A) 10HFB12CW902.UNIT1@NET1",
         "FLW OUTPUT OF BELT COAL FDR A2",
         "t/h",
         "flw_output_of_belt_coal_fdr_a2"
        ],
        [
         "2",
         "(A) 10HFB21CW902.UNIT1@NET1",
         "FLW OUTPUT OF BELT COAL FDR B1",
         "t/h",
         "flw_output_of_belt_coal_fdr_b1"
        ],
        [
         "3",
         "(A) 10HFB22CW902.UNIT1@NET1",
         "FLW OUTPUT OF BELT COAL FDR B2",
         "t/h",
         "flw_output_of_belt_coal_fdr_b2"
        ],
        [
         "4",
         "(A) 10HFB23CW902.UNIT1@NET1",
         "FLW OUTPUT OF BELT COAL FDR B3",
         "t/h",
         "flw_output_of_belt_coal_fdr_b3"
        ],
        [
         "5",
         "(A) 10HFB24CW902.UNIT1@NET1",
         "FLW OUTPUT OF BELT COAL FDR B4",
         "t/h",
         "flw_output_of_belt_coal_fdr_b4"
        ],
        [
         "6",
         "(A) 10HFB31CW902.UNIT1@NET1",
         "FLW OUTPUT OF BELT COAL FDR C1",
         "t/h",
         "flw_output_of_belt_coal_fdr_c1"
        ],
        [
         "7",
         "(A) 10HFB32CW902.UNIT1@NET1",
         "FLW OUTPUT OF BELT COAL FDR C2",
         "t/h",
         "flw_output_of_belt_coal_fdr_c2"
        ],
        [
         "8",
         "(A) 10PORC-AR-PRIMARIO.UNIT1@NET1",
         "PORCENTAGEM DE AR PRIMARIO",
         "%",
         "porcentagem_de_ar_primario"
        ],
        [
         "9",
         "(A) UPPER-AIR-PERC-FLOW.UNIT1@NET1",
         "UPPER-PERC DO AR TOTAL",
         "%",
         "upper_perc_do_ar_total"
        ]
       ],
       "shape": {
        "columns": 4,
        "rows": 10
       }
      },
      "text/html": [
       "<div>\n",
       "<style scoped>\n",
       "    .dataframe tbody tr th:only-of-type {\n",
       "        vertical-align: middle;\n",
       "    }\n",
       "\n",
       "    .dataframe tbody tr th {\n",
       "        vertical-align: top;\n",
       "    }\n",
       "\n",
       "    .dataframe thead th {\n",
       "        text-align: right;\n",
       "    }\n",
       "</style>\n",
       "<table border=\"1\" class=\"dataframe\">\n",
       "  <thead>\n",
       "    <tr style=\"text-align: right;\">\n",
       "      <th></th>\n",
       "      <th>point_name</th>\n",
       "      <th>descricao</th>\n",
       "      <th>unidade</th>\n",
       "      <th>nome_curto</th>\n",
       "    </tr>\n",
       "  </thead>\n",
       "  <tbody>\n",
       "    <tr>\n",
       "      <th>0</th>\n",
       "      <td>(A) 10HFB11CW902.UNIT1@NET1</td>\n",
       "      <td>FLW OUTPUT OF BELT COAL FDR A1</td>\n",
       "      <td>t/h</td>\n",
       "      <td>flw_output_of_belt_coal_fdr_a1</td>\n",
       "    </tr>\n",
       "    <tr>\n",
       "      <th>1</th>\n",
       "      <td>(A) 10HFB12CW902.UNIT1@NET1</td>\n",
       "      <td>FLW OUTPUT OF BELT COAL FDR A2</td>\n",
       "      <td>t/h</td>\n",
       "      <td>flw_output_of_belt_coal_fdr_a2</td>\n",
       "    </tr>\n",
       "    <tr>\n",
       "      <th>2</th>\n",
       "      <td>(A) 10HFB21CW902.UNIT1@NET1</td>\n",
       "      <td>FLW OUTPUT OF BELT COAL FDR B1</td>\n",
       "      <td>t/h</td>\n",
       "      <td>flw_output_of_belt_coal_fdr_b1</td>\n",
       "    </tr>\n",
       "    <tr>\n",
       "      <th>3</th>\n",
       "      <td>(A) 10HFB22CW902.UNIT1@NET1</td>\n",
       "      <td>FLW OUTPUT OF BELT COAL FDR B2</td>\n",
       "      <td>t/h</td>\n",
       "      <td>flw_output_of_belt_coal_fdr_b2</td>\n",
       "    </tr>\n",
       "    <tr>\n",
       "      <th>4</th>\n",
       "      <td>(A) 10HFB23CW902.UNIT1@NET1</td>\n",
       "      <td>FLW OUTPUT OF BELT COAL FDR B3</td>\n",
       "      <td>t/h</td>\n",
       "      <td>flw_output_of_belt_coal_fdr_b3</td>\n",
       "    </tr>\n",
       "    <tr>\n",
       "      <th>5</th>\n",
       "      <td>(A) 10HFB24CW902.UNIT1@NET1</td>\n",
       "      <td>FLW OUTPUT OF BELT COAL FDR B4</td>\n",
       "      <td>t/h</td>\n",
       "      <td>flw_output_of_belt_coal_fdr_b4</td>\n",
       "    </tr>\n",
       "    <tr>\n",
       "      <th>6</th>\n",
       "      <td>(A) 10HFB31CW902.UNIT1@NET1</td>\n",
       "      <td>FLW OUTPUT OF BELT COAL FDR C1</td>\n",
       "      <td>t/h</td>\n",
       "      <td>flw_output_of_belt_coal_fdr_c1</td>\n",
       "    </tr>\n",
       "    <tr>\n",
       "      <th>7</th>\n",
       "      <td>(A) 10HFB32CW902.UNIT1@NET1</td>\n",
       "      <td>FLW OUTPUT OF BELT COAL FDR C2</td>\n",
       "      <td>t/h</td>\n",
       "      <td>flw_output_of_belt_coal_fdr_c2</td>\n",
       "    </tr>\n",
       "    <tr>\n",
       "      <th>8</th>\n",
       "      <td>(A) 10PORC-AR-PRIMARIO.UNIT1@NET1</td>\n",
       "      <td>PORCENTAGEM DE AR PRIMARIO</td>\n",
       "      <td>%</td>\n",
       "      <td>porcentagem_de_ar_primario</td>\n",
       "    </tr>\n",
       "    <tr>\n",
       "      <th>9</th>\n",
       "      <td>(A) UPPER-AIR-PERC-FLOW.UNIT1@NET1</td>\n",
       "      <td>UPPER-PERC DO AR TOTAL</td>\n",
       "      <td>%</td>\n",
       "      <td>upper_perc_do_ar_total</td>\n",
       "    </tr>\n",
       "  </tbody>\n",
       "</table>\n",
       "</div>"
      ],
      "text/plain": [
       "                           point_name                       descricao unidade  \\\n",
       "0         (A) 10HFB11CW902.UNIT1@NET1  FLW OUTPUT OF BELT COAL FDR A1     t/h   \n",
       "1         (A) 10HFB12CW902.UNIT1@NET1  FLW OUTPUT OF BELT COAL FDR A2     t/h   \n",
       "2         (A) 10HFB21CW902.UNIT1@NET1  FLW OUTPUT OF BELT COAL FDR B1     t/h   \n",
       "3         (A) 10HFB22CW902.UNIT1@NET1  FLW OUTPUT OF BELT COAL FDR B2     t/h   \n",
       "4         (A) 10HFB23CW902.UNIT1@NET1  FLW OUTPUT OF BELT COAL FDR B3     t/h   \n",
       "5         (A) 10HFB24CW902.UNIT1@NET1  FLW OUTPUT OF BELT COAL FDR B4     t/h   \n",
       "6         (A) 10HFB31CW902.UNIT1@NET1  FLW OUTPUT OF BELT COAL FDR C1     t/h   \n",
       "7         (A) 10HFB32CW902.UNIT1@NET1  FLW OUTPUT OF BELT COAL FDR C2     t/h   \n",
       "8   (A) 10PORC-AR-PRIMARIO.UNIT1@NET1      PORCENTAGEM DE AR PRIMARIO       %   \n",
       "9  (A) UPPER-AIR-PERC-FLOW.UNIT1@NET1          UPPER-PERC DO AR TOTAL       %   \n",
       "\n",
       "                       nome_curto  \n",
       "0  flw_output_of_belt_coal_fdr_a1  \n",
       "1  flw_output_of_belt_coal_fdr_a2  \n",
       "2  flw_output_of_belt_coal_fdr_b1  \n",
       "3  flw_output_of_belt_coal_fdr_b2  \n",
       "4  flw_output_of_belt_coal_fdr_b3  \n",
       "5  flw_output_of_belt_coal_fdr_b4  \n",
       "6  flw_output_of_belt_coal_fdr_c1  \n",
       "7  flw_output_of_belt_coal_fdr_c2  \n",
       "8      porcentagem_de_ar_primario  \n",
       "9          upper_perc_do_ar_total  "
      ]
     },
     "metadata": {},
     "output_type": "display_data"
    }
   ],
   "source": [
    "import pandas as pd\n",
    "import re\n",
    "from unidecode import unidecode\n",
    "\n",
    "# Caminho original\n",
    "CAMINHO_CAMPOS = r\"C:\\Users\\wilso\\MBA_EMPREENDEDORISMO\\3AGD\\A1_LOCAL\\data\\raw\\ovation\\ovation_campos.csv\"\n",
    "\n",
    "# Lê o arquivo bruto\n",
    "df_raw = pd.read_csv(CAMINHO_CAMPOS, encoding='latin1')\n",
    "\n",
    "# Extrai a coluna com os dados e remove aspas\n",
    "linhas_csv = df_raw.iloc[5:, 1].dropna().str.replace('\"', '')\n",
    "\n",
    "# Separa os campos CSV internamente\n",
    "dados_splitados = linhas_csv.apply(lambda x: x.split(','))\n",
    "\n",
    "# Constrói um DataFrame\n",
    "df_campos = pd.DataFrame(dados_splitados.tolist())\n",
    "\n",
    "# Renomeia campos úteis com base na estrutura esperada\n",
    "df_campos.columns = [\n",
    "    \"idx\", \"status\", \"point_name\", \"_1\", \"historian\", \"proc_type\", \"descricao\",\n",
    "    \"_2\", \"_3\", \"end_value\", \"unidade\", \"low_scale\", \"high_scale\"\n",
    "] + [f\"extra_{i}\" for i in range(1, df_campos.shape[1] - 13 + 1)]\n",
    "\n",
    "# Remove colunas não utilizadas\n",
    "df_limpo = df_campos[[\"point_name\", \"descricao\", \"unidade\"]].copy()\n",
    "\n",
    "# Gera nomes curtos com base na descrição\n",
    "def gerar_nome_curto(texto):\n",
    "    texto = unidecode(str(texto))                 # remove acentos\n",
    "    texto = texto.lower()                         # lowercase\n",
    "    texto = re.sub(r\"[^a-z0-9]+\", \"_\", texto)     # troca por underscores\n",
    "    texto = re.sub(r\"_+\", \"_\", texto).strip(\"_\")  # limpa múltiplos _\n",
    "    return texto\n",
    "\n",
    "df_limpo[\"nome_curto\"] = df_limpo[\"descricao\"].apply(gerar_nome_curto)\n",
    "\n",
    "# Salva o mapeamento final\n",
    "CAMINHO_SAIDA = r\"C:\\Users\\wilso\\MBA_EMPREENDEDORISMO\\3AGD\\A1_LOCAL\\data\\raw\\ovation\\ovation_mapeamento_colunas.csv\"\n",
    "df_limpo.to_csv(CAMINHO_SAIDA, index=False, encoding=\"utf-8\")\n",
    "\n",
    "# Diagnóstico final\n",
    "print(\"✅ Mapeamento de nomes curtos gerado com sucesso!\")\n",
    "print(f\"📁 Arquivo salvo em: {CAMINHO_SAIDA}\")\n",
    "print(f\"🔢 Total de variáveis mapeadas: {len(df_limpo)}\")\n",
    "display(df_limpo.head(10))\n"
   ]
  },
  {
   "cell_type": "code",
   "execution_count": 35,
   "id": "f1f9036f",
   "metadata": {},
   "outputs": [
    {
     "name": "stderr",
     "output_type": "stream",
     "text": [
      "C:\\Users\\wilso\\AppData\\Local\\Temp\\ipykernel_25252\\3072358010.py:9: DtypeWarning: Columns (1,2,3,5,7,8,9,10,11,12,13,14,15,16,17,18,19,20,21,22,23,24,25,26,27,28,29,30,31,32,33,34,35,36,37,38,39,40,41,42,43,44,45,46,47,48,49,50,51,52,53,54,55,56,57,58,59,60,61,62,63,64,65,66,67,68,69,70,71,72,73,74,75,76,77,78,79,80,81,82,83,84,85,86,87,88,89,90,91,92,93,94,95,98,99,100,101,102,103,104,105,106,107,108,109,110,111,112,113,114,115,116,117,118,119,120,121,122,123,124,125,126,127,128,129,130,131,132,134,135,136,137,138,140,142,143,144,145,146,147,148,149,150,151,152,153) have mixed types. Specify dtype option on import or set low_memory=False.\n",
      "  df_dados = pd.read_csv(CAMINHO_DADOS, encoding=\"utf-8\", header=None)\n"
     ]
    },
    {
     "name": "stdout",
     "output_type": "stream",
     "text": [
      "✅ Arquivo com cabeçalhos renomeados salvo com sucesso!\n",
      "📁 Local: C:\\Users\\wilso\\MBA_EMPREENDEDORISMO\\3AGD\\A1_LOCAL\\data\\raw\\ovation\\ovation_dados_renomeado.csv\n",
      "📦 Registros: 21841\n",
      "🔠 Colunas: 154\n"
     ]
    },
    {
     "data": {
      "application/vnd.microsoft.datawrangler.viewer.v0+json": {
       "columns": [
        {
         "name": "index",
         "rawType": "int64",
         "type": "integer"
        },
        {
         "name": "datahora",
         "rawType": "object",
         "type": "string"
        },
        {
         "name": "flw_output_of_belt_coal_fdr_a1",
         "rawType": "object",
         "type": "unknown"
        },
        {
         "name": "flw_output_of_belt_coal_fdr_a2",
         "rawType": "object",
         "type": "string"
        },
        {
         "name": "flw_output_of_belt_coal_fdr_b1",
         "rawType": "object",
         "type": "string"
        },
        {
         "name": "flw_output_of_belt_coal_fdr_b2",
         "rawType": "object",
         "type": "string"
        },
        {
         "name": "flw_output_of_belt_coal_fdr_b3",
         "rawType": "object",
         "type": "string"
        },
        {
         "name": "flw_output_of_belt_coal_fdr_b4",
         "rawType": "object",
         "type": "string"
        },
        {
         "name": "flw_output_of_belt_coal_fdr_c1",
         "rawType": "object",
         "type": "string"
        },
        {
         "name": "flw_output_of_belt_coal_fdr_c2",
         "rawType": "object",
         "type": "string"
        },
        {
         "name": "porcentagem_de_ar_primario",
         "rawType": "object",
         "type": "string"
        },
        {
         "name": "upper_perc_do_ar_total",
         "rawType": "object",
         "type": "string"
        },
        {
         "name": "burner_perc_do_ar_total",
         "rawType": "object",
         "type": "unknown"
        },
        {
         "name": "lower_perc_do_ar_total",
         "rawType": "object",
         "type": "string"
        },
        {
         "name": "coal_perc_do_ar_total",
         "rawType": "object",
         "type": "unknown"
        },
        {
         "name": "temp_1_of_furnace_a_inner",
         "rawType": "object",
         "type": "string"
        },
        {
         "name": "pressure_of_furnace_a_lower",
         "rawType": "object",
         "type": "string"
        },
        {
         "name": "pressure_1_of_furnace_a_bed",
         "rawType": "object",
         "type": "string"
        },
        {
         "name": "pressure_3_of_furnace_bed",
         "rawType": "object",
         "type": "string"
        },
        {
         "name": "press_2_3_of_furnace_b_bed",
         "rawType": "object",
         "type": "string"
        },
        {
         "name": "pressure_1_of_furnace_b_bed",
         "rawType": "object",
         "type": "string"
        },
        {
         "name": "pressure_of_furnace_b_lower",
         "rawType": "object",
         "type": "string"
        },
        {
         "name": "temp_1_of_furnace_b_inner",
         "rawType": "object",
         "type": "string"
        },
        {
         "name": "furnace_bed_temp_1_3_sel",
         "rawType": "object",
         "type": "string"
        },
        {
         "name": "furnace_bed_temp_10_12_sel",
         "rawType": "object",
         "type": "string"
        },
        {
         "name": "furnace_bed_temp_4_6_sel",
         "rawType": "object",
         "type": "string"
        },
        {
         "name": "furnace_bed_temp_13_15_sel",
         "rawType": "object",
         "type": "string"
        },
        {
         "name": "furnace_bed_temp_7_9_sel",
         "rawType": "object",
         "type": "string"
        },
        {
         "name": "furnace_bed_temp_16_18_sel",
         "rawType": "object",
         "type": "string"
        },
        {
         "name": "temp_3_of_furnace_b_inner",
         "rawType": "object",
         "type": "string"
        },
        {
         "name": "temp_3_of_furnace_a_inner",
         "rawType": "object",
         "type": "string"
        },
        {
         "name": "pressure_of_furnace_a_medium",
         "rawType": "object",
         "type": "string"
        },
        {
         "name": "pressure_of_furnace_b_medium",
         "rawType": "object",
         "type": "string"
        },
        {
         "name": "differential_prs_of_furnace_b",
         "rawType": "object",
         "type": "string"
        },
        {
         "name": "differential_prs_of_furnace_a",
         "rawType": "object",
         "type": "string"
        },
        {
         "name": "temp_of_furnace_a_outl",
         "rawType": "object",
         "type": "string"
        },
        {
         "name": "temp_of_furnace_b_outl",
         "rawType": "object",
         "type": "string"
        },
        {
         "name": "pressure_1_of_furnace_b_upper",
         "rawType": "object",
         "type": "string"
        },
        {
         "name": "pressure_1_of_furnace_a_upper",
         "rawType": "object",
         "type": "string"
        },
        {
         "name": "prs_hot_sa_saf_a_in_aph_outl",
         "rawType": "object",
         "type": "string"
        },
        {
         "name": "temperature_of_cyclone_a_inlet",
         "rawType": "object",
         "type": "string"
        },
        {
         "name": "temperature_of_cyclone_b_inlet",
         "rawType": "object",
         "type": "string"
        },
        {
         "name": "temperature_of_cyclone_c_inlet",
         "rawType": "object",
         "type": "string"
        },
        {
         "name": "u_valve_a_inlet_static_prs",
         "rawType": "object",
         "type": "string"
        },
        {
         "name": "u_valve_b_inlet_static_prs",
         "rawType": "object",
         "type": "string"
        },
        {
         "name": "u_valve_c_inlet_static_prs",
         "rawType": "object",
         "type": "string"
        },
        {
         "name": "te_of_gas_in_ecmz_side_a_outl",
         "rawType": "object",
         "type": "string"
        },
        {
         "name": "te_of_gas_in_ecmz_side_b_outl",
         "rawType": "object",
         "type": "string"
        },
        {
         "name": "prs_of_gas_in_ecmz_side_b_outl",
         "rawType": "object",
         "type": "string"
        },
        {
         "name": "prs_of_gas_in_ecmz_side_a_outl",
         "rawType": "object",
         "type": "string"
        },
        {
         "name": "point_not_found",
         "rawType": "object",
         "type": "string"
        },
        {
         "name": "point_not_found",
         "rawType": "object",
         "type": "string"
        },
        {
         "name": "temp_of_gas_in_ltr_side_a_outl",
         "rawType": "object",
         "type": "string"
        },
        {
         "name": "temp_of_gas_in_ltr_side_b_outl",
         "rawType": "object",
         "type": "unknown"
        },
        {
         "name": "prs_of_gas_in_ltr_side_b_outl",
         "rawType": "object",
         "type": "unknown"
        },
        {
         "name": "prs_of_gas_in_ltr_side_a_outl",
         "rawType": "object",
         "type": "string"
        },
        {
         "name": "prs_of_gas_in_ltr_side_a_inlet",
         "rawType": "object",
         "type": "string"
        },
        {
         "name": "temp_of_gas_in_ltr_side_a_inl",
         "rawType": "object",
         "type": "string"
        },
        {
         "name": "temp_of_gas_in_ltr_side_b_inl",
         "rawType": "object",
         "type": "string"
        },
        {
         "name": "prs_of_gas_in_ltr_side_b_inlet",
         "rawType": "object",
         "type": "string"
        },
        {
         "name": "drum_pres_sel",
         "rawType": "object",
         "type": "string"
        },
        {
         "name": "side_a_drum_level_sel",
         "rawType": "object",
         "type": "string"
        },
        {
         "name": "side_b_drum_level_sel",
         "rawType": "object",
         "type": "string"
        },
        {
         "name": "deaerator_upstream_pressure",
         "rawType": "object",
         "type": "string"
        },
        {
         "name": "deaerator_water_level",
         "rawType": "object",
         "type": "string"
        },
        {
         "name": "deaerator_pressure",
         "rawType": "object",
         "type": "string"
        },
        {
         "name": "t_bfbp_b_inlet_temperature",
         "rawType": "object",
         "type": "string"
        },
        {
         "name": "flw_of_cnd_water_before_dea",
         "rawType": "object",
         "type": "string"
        },
        {
         "name": "temp_of_cnd_water_of_dea_inl",
         "rawType": "object",
         "type": "string"
        },
        {
         "name": "fsh_outl_hdr_temp",
         "rawType": "object",
         "type": "string"
        },
        {
         "name": "fsh_outl_hdr_pres",
         "rawType": "object",
         "type": "string"
        },
        {
         "name": "hi_te_rh_ol_temp",
         "rawType": "object",
         "type": "string"
        },
        {
         "name": "hi_temperture_reheol_pres",
         "rawType": "object",
         "type": "string"
        },
        {
         "name": "cur_of_secondary_air_fan_mtr_a",
         "rawType": "object",
         "type": "string"
        },
        {
         "name": "cur_of_secondary_air_fan_mtr_b",
         "rawType": "object",
         "type": "string"
        },
        {
         "name": "cur_of_primary_air_fan_mtr_a",
         "rawType": "object",
         "type": "string"
        },
        {
         "name": "cur_of_primary_air_fan_mtr_b",
         "rawType": "object",
         "type": "string"
        },
        {
         "name": "prs_air_in_stm_aph_paf_b_outl",
         "rawType": "object",
         "type": "string"
        },
        {
         "name": "prs_air_in_stm_aph_paf_a_outl",
         "rawType": "object",
         "type": "string"
        },
        {
         "name": "pressure_of_sa_fan_b_outlet",
         "rawType": "object",
         "type": "string"
        },
        {
         "name": "pressure_of_sa_fan_a_outlet",
         "rawType": "object",
         "type": "string"
        },
        {
         "name": "sa_fan_a_fq_speed_feedback",
         "rawType": "object",
         "type": "string"
        },
        {
         "name": "sa_fan_b_fq_speed_feedback",
         "rawType": "object",
         "type": "string"
        },
        {
         "name": "pa_fan_a_fq_speed_feedback",
         "rawType": "object",
         "type": "string"
        },
        {
         "name": "pa_fan_b_fq_speed_feedback",
         "rawType": "object",
         "type": "string"
        },
        {
         "name": "so2_concentration_raw_flue_gas",
         "rawType": "object",
         "type": "string"
        },
        {
         "name": "dust_concentrat_raw_flue_gas",
         "rawType": "object",
         "type": "string"
        },
        {
         "name": "id_fan_a_outlet_pressure",
         "rawType": "object",
         "type": "string"
        },
        {
         "name": "id_fan_a_move_impeller_pos_fdb",
         "rawType": "object",
         "type": "string"
        },
        {
         "name": "cur_of_induced_draft_fan_mtr_a",
         "rawType": "object",
         "type": "string"
        },
        {
         "name": "idf_a_volumetric_flow_rate_cal",
         "rawType": "object",
         "type": "string"
        },
        {
         "name": "dev_of_current",
         "rawType": "object",
         "type": "string"
        },
        {
         "name": "id_fan_b_outlet_pressure",
         "rawType": "object",
         "type": "string"
        },
        {
         "name": "id_fan_b_move_impeller_pos_fdb",
         "rawType": "object",
         "type": "string"
        },
        {
         "name": "cur_of_induced_draft_fan_mtr_b",
         "rawType": "object",
         "type": "string"
        },
        {
         "name": "idf_b_volumetric_flow_rate_cal",
         "rawType": "object",
         "type": "string"
        },
        {
         "name": "esp_comb_with_ff_b_outl_temp",
         "rawType": "object",
         "type": "string"
        },
        {
         "name": "esp_comb_with_ff_b_outl_prs",
         "rawType": "object",
         "type": "string"
        },
        {
         "name": "esp_comb_with_ff_b_inl_prs_1",
         "rawType": "object",
         "type": "string"
        },
        {
         "name": "esp_comb_with_ff_b_inl_prs_2",
         "rawType": "object",
         "type": "string"
        },
        {
         "name": "esp_comb_with_ff_a_inl_prs_2",
         "rawType": "object",
         "type": "string"
        },
        {
         "name": "esp_comb_with_ff_a_inl_prs_1",
         "rawType": "object",
         "type": "string"
        },
        {
         "name": "temp_of_gas_in_aph_outl",
         "rawType": "object",
         "type": "string"
        },
        {
         "name": "prs_of_gas_in_aph_outlet",
         "rawType": "object",
         "type": "string"
        },
        {
         "name": "te_of_hot_pri_air_in_aph_outl",
         "rawType": "object",
         "type": "string"
        },
        {
         "name": "prs_hot_pri_air_in_aph_outl",
         "rawType": "object",
         "type": "string"
        },
        {
         "name": "aph_main_motor_phase_w_current",
         "rawType": "object",
         "type": "string"
        },
        {
         "name": "aph_main_motor_phase_u_current",
         "rawType": "object",
         "type": "string"
        },
        {
         "name": "cur_of_hpa_fan_mtr_c",
         "rawType": "object",
         "type": "string"
        },
        {
         "name": "cur_of_hpa_fan_mtr_b",
         "rawType": "object",
         "type": "string"
        },
        {
         "name": "cur_of_hpa_fan_mtr_a",
         "rawType": "object",
         "type": "string"
        },
        {
         "name": "prs_of_hpfa_fan_a_outlet_head",
         "rawType": "object",
         "type": "string"
        },
        {
         "name": "temp_of_hpfa_fan_a_outl",
         "rawType": "object",
         "type": "string"
        },
        {
         "name": "temp_of_hpfa_fan_b_outl",
         "rawType": "object",
         "type": "string"
        },
        {
         "name": "prs_of_hpfa_fan_b_outlet_head",
         "rawType": "object",
         "type": "string"
        },
        {
         "name": "temp_of_hpfa_fan_c_outl",
         "rawType": "object",
         "type": "string"
        },
        {
         "name": "prs_of_hpfa_fan_c_outlet_head",
         "rawType": "object",
         "type": "string"
        },
        {
         "name": "te_of_hpfa_fan_outl_head_pipe",
         "rawType": "object",
         "type": "string"
        },
        {
         "name": "prs_of_hpfa_fan_outl_head_pipe",
         "rawType": "object",
         "type": "string"
        },
        {
         "name": "unit_actual",
         "rawType": "object",
         "type": "string"
        },
        {
         "name": "vacuum_pres_from_tcs",
         "rawType": "object",
         "type": "string"
        },
        {
         "name": "hot_reheat_steam_temperature_1",
         "rawType": "object",
         "type": "string"
        },
        {
         "name": "hot_reheat_steam_pressure",
         "rawType": "object",
         "type": "string"
        },
        {
         "name": "miain_steam_temperature",
         "rawType": "object",
         "type": "string"
        },
        {
         "name": "main_steam_pressure",
         "rawType": "object",
         "type": "string"
        },
        {
         "name": "main_steam_flow_sel",
         "rawType": "object",
         "type": "string"
        },
        {
         "name": "feed_water_flw_sel",
         "rawType": "object",
         "type": "string"
        },
        {
         "name": "drum_level_sel",
         "rawType": "object",
         "type": "string"
        },
        {
         "name": "total_fuel_flow",
         "rawType": "object",
         "type": "string"
        },
        {
         "name": "o2_avg",
         "rawType": "object",
         "type": "string"
        },
        {
         "name": "total_paf_air_flow",
         "rawType": "object",
         "type": "string"
        },
        {
         "name": "total_air_flow",
         "rawType": "object",
         "type": "string"
        },
        {
         "name": "bed_temperature_average",
         "rawType": "object",
         "type": "string"
        },
        {
         "name": "furnace_pres",
         "rawType": "object",
         "type": "string"
        },
        {
         "name": "media_horaria_so2_apos_fgd",
         "rawType": "object",
         "type": "string"
        },
        {
         "name": "so2_con_clean_flue_gas_rectifi",
         "rawType": "object",
         "type": "string"
        },
        {
         "name": "so2_con_raw_flue_gas_rectified",
         "rawType": "object",
         "type": "string"
        },
        {
         "name": "1_lms_pdr_bin_continous_lvl",
         "rawType": "object",
         "type": "string"
        },
        {
         "name": "2_lms_pdr_bin_continous_lvl",
         "rawType": "object",
         "type": "string"
        },
        {
         "name": "lms_pdr_bin_flud_air_htr_ol_te",
         "rawType": "object",
         "type": "string"
        },
        {
         "name": "lms_pdr_bin_flud_blwr_ol_prs",
         "rawType": "object",
         "type": "string"
        },
        {
         "name": "te_no_8_hp_heater_ol_feed_wtr",
         "rawType": "object",
         "type": "string"
        },
        {
         "name": "te_no_7_hp_heater_ol_feed_wtr",
         "rawType": "object",
         "type": "string"
        },
        {
         "name": "te_no_6_hp_heater_ol_feed_wtr",
         "rawType": "object",
         "type": "string"
        },
        {
         "name": "temp_of_4_lph_outl_wtr",
         "rawType": "object",
         "type": "string"
        },
        {
         "name": "temp_of_3_lph_outl_wtr",
         "rawType": "object",
         "type": "string"
        },
        {
         "name": "prs_of_condensate_pump_a_outl",
         "rawType": "object",
         "type": "string"
        },
        {
         "name": "prs_of_condensate_pump_a_inlet",
         "rawType": "object",
         "type": "string"
        },
        {
         "name": "prs_of_condensate_pump_b_inlet",
         "rawType": "object",
         "type": "string"
        },
        {
         "name": "prs_of_condensate_pump_b_outl",
         "rawType": "object",
         "type": "string"
        },
        {
         "name": "temp_of_cnd_pump_outl_header",
         "rawType": "object",
         "type": "string"
        },
        {
         "name": "prs_of_cnd_pump_outl_header",
         "rawType": "object",
         "type": "string"
        },
        {
         "name": "nan",
         "rawType": "object",
         "type": "string"
        },
        {
         "name": "nan",
         "rawType": "object",
         "type": "string"
        },
        {
         "name": "nan",
         "rawType": "object",
         "type": "string"
        }
       ],
       "ref": "e8b5741e-d38d-463a-819f-269993c15332",
       "rows": [
        [
         "0",
         "col_001",
         "col_002",
         "col_003",
         "col_004",
         "col_005",
         "col_006",
         "col_007",
         "col_008",
         "col_009",
         "col_010",
         "col_011",
         "col_012",
         "col_013",
         "col_014",
         "col_015",
         "col_016",
         "col_017",
         "col_018",
         "col_019",
         "col_020",
         "col_021",
         "col_022",
         "col_023",
         "col_024",
         "col_025",
         "col_026",
         "col_027",
         "col_028",
         "col_029",
         "col_030",
         "col_031",
         "col_032",
         "col_033",
         "col_034",
         "col_035",
         "col_036",
         "col_037",
         "col_038",
         "col_039",
         "col_040",
         "col_041",
         "col_042",
         "col_043",
         "col_044",
         "col_045",
         "col_046",
         "col_047",
         "col_048",
         "col_049",
         "col_050",
         "col_051",
         "col_052",
         "col_053",
         "col_054",
         "col_055",
         "col_056",
         "col_057",
         "col_058",
         "col_059",
         "col_060",
         "col_061",
         "col_062",
         "col_063",
         "col_064",
         "col_065",
         "col_066",
         "col_067",
         "col_068",
         "col_069",
         "col_070",
         "col_071",
         "col_072",
         "col_073",
         "col_074",
         "col_075",
         "col_076",
         "col_077",
         "col_078",
         "col_079",
         "col_080",
         "col_081",
         "col_082",
         "col_083",
         "col_084",
         "col_085",
         "col_086",
         "col_087",
         "col_088",
         "col_089",
         "col_090",
         "col_091",
         "col_092",
         "col_093",
         "col_094",
         "col_095",
         "col_096",
         "col_097",
         "col_098",
         "col_099",
         "col_100",
         "col_101",
         "col_102",
         "col_103",
         "col_104",
         "col_105",
         "col_106",
         "col_107",
         "col_108",
         "col_109",
         "col_110",
         "col_111",
         "col_112",
         "col_113",
         "col_114",
         "col_115",
         "col_116",
         "col_117",
         "col_118",
         "col_119",
         "col_120",
         "col_121",
         "col_122",
         "col_123",
         "col_124",
         "col_125",
         "col_126",
         "col_127",
         "col_128",
         "col_129",
         "col_130",
         "col_131",
         "col_132",
         "col_133",
         "col_134",
         "col_135",
         "col_136",
         "col_137",
         "col_138",
         "col_139",
         "col_140",
         "col_141",
         "col_142",
         "col_143",
         "col_144",
         "col_145",
         "col_146",
         "col_147",
         "col_148",
         "col_149",
         "col_150",
         "col_151",
         "col_152",
         "col_153",
         "col_154"
        ],
        [
         "1",
         "\"06/29/2023 23:00:00",
         null,
         "36.421 ",
         "34.168 ",
         "33.509 ",
         "34.521 ",
         "29.797 ",
         "32.795 ",
         "32.676 ",
         "32.603 ",
         "51.230 ",
         null,
         "25.7361 ",
         null,
         "7.9383 ",
         "7.4593 ",
         "5.7430 ",
         "791.737",
         "2.14",
         "3.124",
         "4.168",
         "4.544",
         "2.982",
         "1.961",
         "832.467",
         "777.996",
         "829.101",
         "817.945",
         "836.842",
         "847.498",
         "856.979",
         "833.293",
         "797.198",
         "508.047",
         "551.398",
         "1.115",
         "1.245",
         "773.662",
         "824.498",
         "-1.245",
         "-42.17",
         "9.014",
         "830.96",
         "839.55",
         "864.774",
         "-1.430 ",
         "-0.896",
         "-1.174 ",
         "306.734",
         "314.68",
         "-2.828",
         "-2.91",
         null,
         null,
         "489.291",
         "506.136",
         "-2.517",
         "-2.525",
         "-2.152",
         "714.335",
         "740.825",
         "-2.132",
         "17.761",
         "23.623 ",
         "-39.227 ",
         "1.069",
         "799.506",
         "1.021",
         "183.999",
         "774.48",
         "151.055",
         "-0.072",
         "-0.012",
         "-0.179",
         "0.004",
         "77.795",
         "74.164",
         "131.754",
         "132.12",
         "15.156",
         "15.135",
         "10.246",
         "9.795",
         "1309.138 ",
         "1309.683 ",
         "1302.277 ",
         "1290.948 ",
         "3261.596 ",
         "8.005 ",
         "0.812",
         "40.521",
         "232.941",
         "281.966",
         "14.038",
         "0.745",
         "41.559 ",
         "219.284",
         "248.18",
         "115.678",
         "-5.13",
         "-4.217",
         "-4.294",
         "-4.297",
         "-4.371",
         "127.739",
         "-4.286",
         "286.899",
         "14.488",
         "15.931 ",
         "15.445 ",
         "0.07",
         "38.911",
         "38.894",
         "53.297",
         "83.63",
         "82.748",
         "53.139",
         "12.234",
         "0.289",
         "82.067",
         "50.992",
         "298.587",
         "5.355",
         "536.539",
         "3.618",
         "539.186",
         "16.306",
         "933.572",
         "894.466",
         "-8.316 ",
         "267.241 ",
         "3.127",
         "433.448 ",
         "770.955 ",
         "831.209 ",
         "-33.197",
         "295.139 ",
         "299.312 ",
         "3138.470 ",
         "6.997 ",
         "7.525 ",
         "120.643 ",
         "54.958 ",
         "279.297",
         "254.181",
         "224.011",
         "151.055",
         "114.222",
         "3.439",
         "-72.340 ",
         "-70.775 ",
         "-0.037",
         "33.596",
         "3.411 \""
        ]
       ],
       "shape": {
        "columns": 154,
        "rows": 2
       }
      },
      "text/html": [
       "<div>\n",
       "<style scoped>\n",
       "    .dataframe tbody tr th:only-of-type {\n",
       "        vertical-align: middle;\n",
       "    }\n",
       "\n",
       "    .dataframe tbody tr th {\n",
       "        vertical-align: top;\n",
       "    }\n",
       "\n",
       "    .dataframe thead th {\n",
       "        text-align: right;\n",
       "    }\n",
       "</style>\n",
       "<table border=\"1\" class=\"dataframe\">\n",
       "  <thead>\n",
       "    <tr style=\"text-align: right;\">\n",
       "      <th></th>\n",
       "      <th>datahora</th>\n",
       "      <th>flw_output_of_belt_coal_fdr_a1</th>\n",
       "      <th>flw_output_of_belt_coal_fdr_a2</th>\n",
       "      <th>flw_output_of_belt_coal_fdr_b1</th>\n",
       "      <th>flw_output_of_belt_coal_fdr_b2</th>\n",
       "      <th>flw_output_of_belt_coal_fdr_b3</th>\n",
       "      <th>flw_output_of_belt_coal_fdr_b4</th>\n",
       "      <th>flw_output_of_belt_coal_fdr_c1</th>\n",
       "      <th>flw_output_of_belt_coal_fdr_c2</th>\n",
       "      <th>porcentagem_de_ar_primario</th>\n",
       "      <th>...</th>\n",
       "      <th>temp_of_3_lph_outl_wtr</th>\n",
       "      <th>prs_of_condensate_pump_a_outl</th>\n",
       "      <th>prs_of_condensate_pump_a_inlet</th>\n",
       "      <th>prs_of_condensate_pump_b_inlet</th>\n",
       "      <th>prs_of_condensate_pump_b_outl</th>\n",
       "      <th>temp_of_cnd_pump_outl_header</th>\n",
       "      <th>prs_of_cnd_pump_outl_header</th>\n",
       "      <th>NaN</th>\n",
       "      <th>NaN</th>\n",
       "      <th>NaN</th>\n",
       "    </tr>\n",
       "  </thead>\n",
       "  <tbody>\n",
       "    <tr>\n",
       "      <th>0</th>\n",
       "      <td>col_001</td>\n",
       "      <td>col_002</td>\n",
       "      <td>col_003</td>\n",
       "      <td>col_004</td>\n",
       "      <td>col_005</td>\n",
       "      <td>col_006</td>\n",
       "      <td>col_007</td>\n",
       "      <td>col_008</td>\n",
       "      <td>col_009</td>\n",
       "      <td>col_010</td>\n",
       "      <td>...</td>\n",
       "      <td>col_145</td>\n",
       "      <td>col_146</td>\n",
       "      <td>col_147</td>\n",
       "      <td>col_148</td>\n",
       "      <td>col_149</td>\n",
       "      <td>col_150</td>\n",
       "      <td>col_151</td>\n",
       "      <td>col_152</td>\n",
       "      <td>col_153</td>\n",
       "      <td>col_154</td>\n",
       "    </tr>\n",
       "    <tr>\n",
       "      <th>1</th>\n",
       "      <td>\"06/29/2023 23:00:00</td>\n",
       "      <td>NaN</td>\n",
       "      <td>36.421</td>\n",
       "      <td>34.168</td>\n",
       "      <td>33.509</td>\n",
       "      <td>34.521</td>\n",
       "      <td>29.797</td>\n",
       "      <td>32.795</td>\n",
       "      <td>32.676</td>\n",
       "      <td>32.603</td>\n",
       "      <td>...</td>\n",
       "      <td>254.181</td>\n",
       "      <td>224.011</td>\n",
       "      <td>151.055</td>\n",
       "      <td>114.222</td>\n",
       "      <td>3.439</td>\n",
       "      <td>-72.340</td>\n",
       "      <td>-70.775</td>\n",
       "      <td>-0.037</td>\n",
       "      <td>33.596</td>\n",
       "      <td>3.411 \"</td>\n",
       "    </tr>\n",
       "  </tbody>\n",
       "</table>\n",
       "<p>2 rows × 154 columns</p>\n",
       "</div>"
      ],
      "text/plain": [
       "               datahora flw_output_of_belt_coal_fdr_a1  \\\n",
       "0               col_001                        col_002   \n",
       "1  \"06/29/2023 23:00:00                            NaN   \n",
       "\n",
       "  flw_output_of_belt_coal_fdr_a2 flw_output_of_belt_coal_fdr_b1  \\\n",
       "0                        col_003                        col_004   \n",
       "1                        36.421                         34.168    \n",
       "\n",
       "  flw_output_of_belt_coal_fdr_b2 flw_output_of_belt_coal_fdr_b3  \\\n",
       "0                        col_005                        col_006   \n",
       "1                        33.509                         34.521    \n",
       "\n",
       "  flw_output_of_belt_coal_fdr_b4 flw_output_of_belt_coal_fdr_c1  \\\n",
       "0                        col_007                        col_008   \n",
       "1                        29.797                         32.795    \n",
       "\n",
       "  flw_output_of_belt_coal_fdr_c2 porcentagem_de_ar_primario  ...  \\\n",
       "0                        col_009                    col_010  ...   \n",
       "1                        32.676                     32.603   ...   \n",
       "\n",
       "  temp_of_3_lph_outl_wtr prs_of_condensate_pump_a_outl  \\\n",
       "0                col_145                       col_146   \n",
       "1                254.181                       224.011   \n",
       "\n",
       "  prs_of_condensate_pump_a_inlet prs_of_condensate_pump_b_inlet  \\\n",
       "0                        col_147                        col_148   \n",
       "1                        151.055                        114.222   \n",
       "\n",
       "  prs_of_condensate_pump_b_outl temp_of_cnd_pump_outl_header  \\\n",
       "0                       col_149                      col_150   \n",
       "1                         3.439                     -72.340    \n",
       "\n",
       "  prs_of_cnd_pump_outl_header      NaN      NaN      NaN  \n",
       "0                     col_151  col_152  col_153  col_154  \n",
       "1                    -70.775    -0.037   33.596  3.411 \"  \n",
       "\n",
       "[2 rows x 154 columns]"
      ]
     },
     "metadata": {},
     "output_type": "display_data"
    }
   ],
   "source": [
    "import pandas as pd\n",
    "\n",
    "# Caminhos dos arquivos\n",
    "CAMINHO_DADOS = r\"C:\\Users\\wilso\\MBA_EMPREENDEDORISMO\\3AGD\\A1_LOCAL\\data\\raw\\ovation\\ovation_dados_curado.csv\"\n",
    "CAMINHO_MAPEAMENTO = r\"C:\\Users\\wilso\\MBA_EMPREENDEDORISMO\\3AGD\\A1_LOCAL\\data\\raw\\ovation\\ovation_mapeamento_colunas.csv\"\n",
    "CAMINHO_SAIDA = r\"C:\\Users\\wilso\\MBA_EMPREENDEDORISMO\\3AGD\\A1_LOCAL\\data\\raw\\ovation\\ovation_dados_renomeado.csv\"\n",
    "\n",
    "# Carrega os dados e o mapeamento\n",
    "df_dados = pd.read_csv(CAMINHO_DADOS, encoding=\"utf-8\", header=None)\n",
    "df_mapeamento = pd.read_csv(CAMINHO_MAPEAMENTO)\n",
    "\n",
    "# Substitui os nomes de coluna (apenas as colunas com variáveis conhecidas)\n",
    "colunas_renomeadas = [\"datahora\"] + df_mapeamento[\"nome_curto\"].tolist()\n",
    "df_dados.columns = colunas_renomeadas[:df_dados.shape[1]]\n",
    "\n",
    "# Salva o novo CSV com cabeçalhos\n",
    "df_dados.to_csv(CAMINHO_SAIDA, index=False, encoding=\"utf-8\")\n",
    "\n",
    "# Diagnóstico\n",
    "print(\"✅ Arquivo com cabeçalhos renomeados salvo com sucesso!\")\n",
    "print(f\"📁 Local: {CAMINHO_SAIDA}\")\n",
    "print(f\"📦 Registros: {len(df_dados)}\")\n",
    "print(f\"🔠 Colunas: {df_dados.shape[1]}\")\n",
    "display(df_dados.head(2))\n"
   ]
  },
  {
   "cell_type": "code",
   "execution_count": 40,
   "id": "ecf903fb",
   "metadata": {},
   "outputs": [
    {
     "name": "stdout",
     "output_type": "stream",
     "text": [
      "✅ Arquivo salvo com sucesso em:\n",
      "C:\\Users\\wilso\\MBA_EMPREENDEDORISMO\\3AGD\\A1_LOCAL\\data\\raw\\ovation\\ovation_mapeado_nome_unidade.csv\n"
     ]
    }
   ],
   "source": [
    "import pandas as pd\n",
    "import re\n",
    "from unidecode import unidecode\n",
    "\n",
    "# Caminho do arquivo com estrutura correta\n",
    "CAMINHO_BASE = r\"C:\\Users\\wilso\\MBA_EMPREENDEDORISMO\\3AGD\\A1_LOCAL\\data\\raw\\ovation\\ovation_campos_formatado_simples.csv\"\n",
    "\n",
    "# 1. Carregar base\n",
    "df = pd.read_csv(CAMINHO_BASE, encoding=\"utf-8\")\n",
    "\n",
    "# 2. Função para gerar nome curto padronizado com unidade\n",
    "def gerar_nome_curto(desc, unidade):\n",
    "    base = unidecode(str(desc)).lower()\n",
    "    base = re.sub(r\"[^a-z0-9]+\", \"_\", base).strip(\"_\")\n",
    "    unidade = unidecode(str(unidade)).lower()\n",
    "    unidade = re.sub(r\"[^a-z0-9]+\", \"_\", unidade).strip(\"_\")\n",
    "    return f\"{base}_{unidade}\"\n",
    "\n",
    "# 3. Aplicar a transformação\n",
    "df[\"nome_curto_com_unidade\"] = df.apply(\n",
    "    lambda row: gerar_nome_curto(row[\"descricao\"], row[\"unidade\"]), axis=1\n",
    ")\n",
    "\n",
    "# 4. Selecionar colunas relevantes e salvar\n",
    "df_saida = df[[\"point_name\", \"descricao\", \"unidade\", \"low_scale\", \"nome_curto_com_unidade\"]]\n",
    "CAMINHO_SAIDA = r\"C:\\Users\\wilso\\MBA_EMPREENDEDORISMO\\3AGD\\A1_LOCAL\\data\\raw\\ovation\\ovation_mapeado_nome_unidade.csv\"\n",
    "df_saida.to_csv(CAMINHO_SAIDA, index=False)\n",
    "\n",
    "print(f\"✅ Arquivo salvo com sucesso em:\\n{CAMINHO_SAIDA}\")\n"
   ]
  },
  {
   "cell_type": "code",
   "execution_count": 44,
   "id": "ba2d8ca4",
   "metadata": {},
   "outputs": [
    {
     "name": "stdout",
     "output_type": "stream",
     "text": [
      "✅ Renomeação aplicada com nomes reais e fictícios.\n",
      "📁 Arquivo salvo em: C:\\Users\\wilso\\MBA_EMPREENDEDORISMO\\3AGD\\A1_LOCAL\\data\\raw\\ovation\\ovation_dados_renomeado.csv\n",
      "📊 Total de colunas renomeadas: 153 + 1 (data_hora)\n"
     ]
    }
   ],
   "source": [
    "import pandas as pd\n",
    "\n",
    "# === Caminhos de entrada e saída\n",
    "CAMINHO_CURADO = r\"C:\\Users\\wilso\\MBA_EMPREENDEDORISMO\\3AGD\\A1_LOCAL\\data\\raw\\ovation\\ovation_dados_curado.csv\"\n",
    "CAMINHO_MAPEADO = r\"C:\\Users\\wilso\\MBA_EMPREENDEDORISMO\\3AGD\\A1_LOCAL\\data\\raw\\ovation\\ovation_mapeado_nome_unidade.csv\"\n",
    "CAMINHO_SAIDA = r\"C:\\Users\\wilso\\MBA_EMPREENDEDORISMO\\3AGD\\A1_LOCAL\\data\\raw\\ovation\\ovation_dados_renomeado.csv\"\n",
    "\n",
    "# === 1. Carregar datasets\n",
    "df = pd.read_csv(CAMINHO_CURADO, encoding=\"utf-8\", low_memory=False)\n",
    "df_map = pd.read_csv(CAMINHO_MAPEADO, encoding=\"utf-8\")\n",
    "\n",
    "# === 2. Separar colunas reais (de sensores) da de data\n",
    "col_data = df.columns[0]\n",
    "col_sensores = df.columns[1:]\n",
    "\n",
    "# === 3. Verificar e completar o mapeamento, se necessário\n",
    "nomes_disponiveis = df_map[\"nome_curto_com_unidade\"].tolist()\n",
    "faltam = len(col_sensores) - len(nomes_disponiveis)\n",
    "\n",
    "if faltam > 0:\n",
    "    nomes_ficticios = [f\"variavel_ficticia_{str(i+1).zfill(3)}\" for i in range(faltam)]\n",
    "    nomes_finais = nomes_disponiveis + nomes_ficticios\n",
    "else:\n",
    "    nomes_finais = nomes_disponiveis[:len(col_sensores)]\n",
    "\n",
    "# === 4. Aplicar renomeação\n",
    "mapeamento = {\n",
    "    original: novo for original, novo in zip(col_sensores, nomes_finais)\n",
    "}\n",
    "df = df.rename(columns=mapeamento)\n",
    "df = df.rename(columns={col_data: \"data_hora\"})\n",
    "\n",
    "# === 5. Exportar resultado\n",
    "df.to_csv(CAMINHO_SAIDA, index=False)\n",
    "print(\"✅ Renomeação aplicada com nomes reais e fictícios.\")\n",
    "print(f\"📁 Arquivo salvo em: {CAMINHO_SAIDA}\")\n",
    "print(f\"📊 Total de colunas renomeadas: {len(mapeamento)} + 1 (data_hora)\")\n"
   ]
  },
  {
   "cell_type": "code",
   "execution_count": 1,
   "id": "a1034863",
   "metadata": {},
   "outputs": [
    {
     "name": "stdout",
     "output_type": "stream",
     "text": [
      "🔢 Total de colunas: 154\n",
      "\n",
      "000: col_001\n",
      "001: col_002\n",
      "002: col_003\n",
      "003: col_004\n",
      "004: col_005\n",
      "005: col_006\n",
      "006: col_007\n",
      "007: col_008\n",
      "008: col_009\n",
      "009: col_010\n",
      "010: col_011\n",
      "011: col_012\n",
      "012: col_013\n",
      "013: col_014\n",
      "014: col_015\n",
      "015: col_016\n",
      "016: col_017\n",
      "017: col_018\n",
      "018: col_019\n",
      "019: col_020\n",
      "020: col_021\n",
      "021: col_022\n",
      "022: col_023\n",
      "023: col_024\n",
      "024: col_025\n",
      "025: col_026\n",
      "026: col_027\n",
      "027: col_028\n",
      "028: col_029\n",
      "029: col_030\n",
      "030: col_031\n",
      "031: col_032\n",
      "032: col_033\n",
      "033: col_034\n",
      "034: col_035\n",
      "035: col_036\n",
      "036: col_037\n",
      "037: col_038\n",
      "038: col_039\n",
      "039: col_040\n",
      "040: col_041\n",
      "041: col_042\n",
      "042: col_043\n",
      "043: col_044\n",
      "044: col_045\n",
      "045: col_046\n",
      "046: col_047\n",
      "047: col_048\n",
      "048: col_049\n",
      "049: col_050\n",
      "050: col_051\n",
      "051: col_052\n",
      "052: col_053\n",
      "053: col_054\n",
      "054: col_055\n",
      "055: col_056\n",
      "056: col_057\n",
      "057: col_058\n",
      "058: col_059\n",
      "059: col_060\n",
      "060: col_061\n",
      "061: col_062\n",
      "062: col_063\n",
      "063: col_064\n",
      "064: col_065\n",
      "065: col_066\n",
      "066: col_067\n",
      "067: col_068\n",
      "068: col_069\n",
      "069: col_070\n",
      "070: col_071\n",
      "071: col_072\n",
      "072: col_073\n",
      "073: col_074\n",
      "074: col_075\n",
      "075: col_076\n",
      "076: col_077\n",
      "077: col_078\n",
      "078: col_079\n",
      "079: col_080\n",
      "080: col_081\n",
      "081: col_082\n",
      "082: col_083\n",
      "083: col_084\n",
      "084: col_085\n",
      "085: col_086\n",
      "086: col_087\n",
      "087: col_088\n",
      "088: col_089\n",
      "089: col_090\n",
      "090: col_091\n",
      "091: col_092\n",
      "092: col_093\n",
      "093: col_094\n",
      "094: col_095\n",
      "095: col_096\n",
      "096: col_097\n",
      "097: col_098\n",
      "098: col_099\n",
      "099: col_100\n",
      "100: col_101\n",
      "101: col_102\n",
      "102: col_103\n",
      "103: col_104\n",
      "104: col_105\n",
      "105: col_106\n",
      "106: col_107\n",
      "107: col_108\n",
      "108: col_109\n",
      "109: col_110\n",
      "110: col_111\n",
      "111: col_112\n",
      "112: col_113\n",
      "113: col_114\n",
      "114: col_115\n",
      "115: col_116\n",
      "116: col_117\n",
      "117: col_118\n",
      "118: col_119\n",
      "119: col_120\n",
      "120: col_121\n",
      "121: col_122\n",
      "122: col_123\n",
      "123: col_124\n",
      "124: col_125\n",
      "125: col_126\n",
      "126: col_127\n",
      "127: col_128\n",
      "128: col_129\n",
      "129: col_130\n",
      "130: col_131\n",
      "131: col_132\n",
      "132: col_133\n",
      "133: col_134\n",
      "134: col_135\n",
      "135: col_136\n",
      "136: col_137\n",
      "137: col_138\n",
      "138: col_139\n",
      "139: col_140\n",
      "140: col_141\n",
      "141: col_142\n",
      "142: col_143\n",
      "143: col_144\n",
      "144: col_145\n",
      "145: col_146\n",
      "146: col_147\n",
      "147: col_148\n",
      "148: col_149\n",
      "149: col_150\n",
      "150: col_151\n",
      "151: col_152\n",
      "152: col_153\n",
      "153: col_154\n"
     ]
    }
   ],
   "source": [
    "import pandas as pd\n",
    "\n",
    "CAMINHO_CURADO = r\"C:\\Users\\wilso\\MBA_EMPREENDEDORISMO\\3AGD\\A1_LOCAL\\data\\raw\\ovation\\ovation_dados_curado.csv\"\n",
    "\n",
    "# Carregar apenas o cabeçalho\n",
    "with open(CAMINHO_CURADO, \"r\", encoding=\"utf-8\") as f:\n",
    "    primeira_linha = f.readline()\n",
    "\n",
    "# Separar e imprimir as colunas\n",
    "colunas = primeira_linha.strip().split(\",\")\n",
    "print(f\"🔢 Total de colunas: {len(colunas)}\\n\")\n",
    "for i, nome in enumerate(colunas):\n",
    "    print(f\"{i:03}: {nome}\")\n"
   ]
  }
 ],
 "metadata": {
  "kernelspec": {
   "display_name": ".venv",
   "language": "python",
   "name": "python3"
  },
  "language_info": {
   "codemirror_mode": {
    "name": "ipython",
    "version": 3
   },
   "file_extension": ".py",
   "mimetype": "text/x-python",
   "name": "python",
   "nbconvert_exporter": "python",
   "pygments_lexer": "ipython3",
   "version": "3.12.10"
  }
 },
 "nbformat": 4,
 "nbformat_minor": 5
}
