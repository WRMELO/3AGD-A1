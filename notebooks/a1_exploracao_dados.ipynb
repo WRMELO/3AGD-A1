{
 "cells": [
  {
   "cell_type": "markdown",
   "id": "22b21171",
   "metadata": {},
   "source": [
    "# Pilar A1 – Aprendizado Profundo Contínuo\n",
    "\n",
    "Este notebook é responsável por iniciar a análise exploratória dos dados brutos da base **Ovation**, que serão futuramente curados para alimentar os modelos do Pilar A1 do Framework 3AGD.\n",
    "\n",
    "---\n",
    "\n",
    "### Objetivos desta etapa:\n",
    "\n",
    "1. Verificar estrutura e integridade dos dados\n",
    "2. Analisar formatos, colunas, datas e registros nulos\n",
    "3. Definir escopo inicial de modelagem\n",
    "4. Produzir artefatos auditáveis para curadoria e transformação futura\n",
    "\n",
    "---\n"
   ]
  }
 ],
 "metadata": {
  "language_info": {
   "name": "python"
  }
 },
 "nbformat": 4,
 "nbformat_minor": 5
}
